{
  "nbformat": 4,
  "nbformat_minor": 0,
  "metadata": {
    "colab": {
      "provenance": [],
      "gpuType": "T4",
      "toc_visible": true
    },
    "kernelspec": {
      "name": "python3",
      "display_name": "Python 3"
    },
    "language_info": {
      "name": "python"
    },
    "accelerator": "GPU"
  },
  "cells": [
    {
      "cell_type": "markdown",
      "source": [
        "#Project Diary\n",
        "This document act as a project diary for **Happy Tweeting**\n",
        "\n"
      ],
      "metadata": {
        "id": "35unID6RwGNn"
      }
    },
    {
      "cell_type": "markdown",
      "source": [
        "###Citation Information\n",
        "@InProceedings{paws2019naacl,<br>\n",
        "title = {{TSATC: Twitter Sentiment Analysis Training Corpus}},<br>\n",
        "author = {Ibrahim Naji},<br>\n",
        "booktitle = {thinknook},<br>\n",
        "year = {2012}<br>\n",
        "}"
      ],
      "metadata": {
        "id": "355S3r4gCbC2"
      }
    },
    {
      "cell_type": "markdown",
      "source": [
        "1 stands for positive,<br>\n",
        "0 for negative"
      ],
      "metadata": {
        "id": "h9wjpaqHEh2M"
      }
    },
    {
      "cell_type": "markdown",
      "source": [
        "Dataset retrieved from:<br>\n",
        "https://huggingface.co/datasets/carblacac/twitter-sentiment-analysis/tree/main"
      ],
      "metadata": {
        "id": "ACDJcsoZC8D9"
      }
    },
    {
      "cell_type": "code",
      "execution_count": 1,
      "metadata": {
        "id": "Ek_l8TCJIjwg"
      },
      "outputs": [],
      "source": [
        "_URL = \"https://raw.githubusercontent.com/cblancac/SentimentAnalysisBert/main/data/\"\n",
        "_URLS = {\n",
        "    \"train\": _URL + \"train_150k.txt\",\n",
        "    \"test\": _URL + \"test_62k.txt\",\n",
        "}\n"
      ]
    },
    {
      "cell_type": "code",
      "source": [
        "!wget https://raw.githubusercontent.com/cblancac/SentimentAnalysisBert/main/data/train_150k.txt\n",
        "!wget https://raw.githubusercontent.com/cblancac/SentimentAnalysisBert/main/data/test_62k.txt"
      ],
      "metadata": {
        "colab": {
          "base_uri": "https://localhost:8080/"
        },
        "id": "ecvPith3lnOv",
        "outputId": "35cd14b4-1179-4ad9-ed4e-2353623a909d"
      },
      "execution_count": 2,
      "outputs": [
        {
          "output_type": "stream",
          "name": "stdout",
          "text": [
            "--2023-06-27 18:08:53--  https://raw.githubusercontent.com/cblancac/SentimentAnalysisBert/main/data/train_150k.txt\n",
            "Resolving raw.githubusercontent.com (raw.githubusercontent.com)... 185.199.108.133, 185.199.109.133, 185.199.110.133, ...\n",
            "Connecting to raw.githubusercontent.com (raw.githubusercontent.com)|185.199.108.133|:443... connected.\n",
            "HTTP request sent, awaiting response... 200 OK\n",
            "Length: 11697788 (11M) [text/plain]\n",
            "Saving to: ‘train_150k.txt’\n",
            "\n",
            "train_150k.txt      100%[===================>]  11.16M  --.-KB/s    in 0.06s   \n",
            "\n",
            "2023-06-27 18:08:54 (194 MB/s) - ‘train_150k.txt’ saved [11697788/11697788]\n",
            "\n",
            "--2023-06-27 18:08:54--  https://raw.githubusercontent.com/cblancac/SentimentAnalysisBert/main/data/test_62k.txt\n",
            "Resolving raw.githubusercontent.com (raw.githubusercontent.com)... 185.199.108.133, 185.199.109.133, 185.199.110.133, ...\n",
            "Connecting to raw.githubusercontent.com (raw.githubusercontent.com)|185.199.108.133|:443... connected.\n",
            "HTTP request sent, awaiting response... 200 OK\n",
            "Length: 4839762 (4.6M) [text/plain]\n",
            "Saving to: ‘test_62k.txt’\n",
            "\n",
            "test_62k.txt        100%[===================>]   4.62M  --.-KB/s    in 0.02s   \n",
            "\n",
            "2023-06-27 18:08:55 (191 MB/s) - ‘test_62k.txt’ saved [4839762/4839762]\n",
            "\n"
          ]
        }
      ]
    },
    {
      "cell_type": "code",
      "source": [
        "import pandas as pd\n",
        "import tensorflow as tf\n",
        "import numpy as np\n",
        "import matplotlib.pyplot as plt\n",
        "import random\n",
        "dfTrain = pd.read_csv(\"./train_150k.txt\",names=[\"sentiment\",\"tweets\"], sep=\"\\t\")\n",
        "dfTest = pd.read_csv(\"./test_62k.txt\",names=[\"sentiment\",\"tweets\"], sep=\"\\t\")\n",
        "dfTrain.head()"
      ],
      "metadata": {
        "colab": {
          "base_uri": "https://localhost:8080/",
          "height": 206
        },
        "id": "I6aFuoCHmKIR",
        "outputId": "84188bd7-e443-4b69-9099-c55b77daac2f"
      },
      "execution_count": 3,
      "outputs": [
        {
          "output_type": "execute_result",
          "data": {
            "text/plain": [
              "   sentiment                                             tweets\n",
              "0          0  Starting  back at work today   Looks like it'l...\n",
              "1          1  Sugar levels dropping... munchies setting in. ...\n",
              "2          1     @karineb22 yeah!!! have a great summer break! \n",
              "3          1  hannah montana was very good.  now going to re...\n",
              "4          1  @Mayra326 aww, have fun!  I just had my 3D las..."
            ],
            "text/html": [
              "\n",
              "  <div id=\"df-8500302e-eaf2-4836-83f5-68076769e4cd\">\n",
              "    <div class=\"colab-df-container\">\n",
              "      <div>\n",
              "<style scoped>\n",
              "    .dataframe tbody tr th:only-of-type {\n",
              "        vertical-align: middle;\n",
              "    }\n",
              "\n",
              "    .dataframe tbody tr th {\n",
              "        vertical-align: top;\n",
              "    }\n",
              "\n",
              "    .dataframe thead th {\n",
              "        text-align: right;\n",
              "    }\n",
              "</style>\n",
              "<table border=\"1\" class=\"dataframe\">\n",
              "  <thead>\n",
              "    <tr style=\"text-align: right;\">\n",
              "      <th></th>\n",
              "      <th>sentiment</th>\n",
              "      <th>tweets</th>\n",
              "    </tr>\n",
              "  </thead>\n",
              "  <tbody>\n",
              "    <tr>\n",
              "      <th>0</th>\n",
              "      <td>0</td>\n",
              "      <td>Starting  back at work today   Looks like it'l...</td>\n",
              "    </tr>\n",
              "    <tr>\n",
              "      <th>1</th>\n",
              "      <td>1</td>\n",
              "      <td>Sugar levels dropping... munchies setting in. ...</td>\n",
              "    </tr>\n",
              "    <tr>\n",
              "      <th>2</th>\n",
              "      <td>1</td>\n",
              "      <td>@karineb22 yeah!!! have a great summer break!</td>\n",
              "    </tr>\n",
              "    <tr>\n",
              "      <th>3</th>\n",
              "      <td>1</td>\n",
              "      <td>hannah montana was very good.  now going to re...</td>\n",
              "    </tr>\n",
              "    <tr>\n",
              "      <th>4</th>\n",
              "      <td>1</td>\n",
              "      <td>@Mayra326 aww, have fun!  I just had my 3D las...</td>\n",
              "    </tr>\n",
              "  </tbody>\n",
              "</table>\n",
              "</div>\n",
              "      <button class=\"colab-df-convert\" onclick=\"convertToInteractive('df-8500302e-eaf2-4836-83f5-68076769e4cd')\"\n",
              "              title=\"Convert this dataframe to an interactive table.\"\n",
              "              style=\"display:none;\">\n",
              "        \n",
              "  <svg xmlns=\"http://www.w3.org/2000/svg\" height=\"24px\"viewBox=\"0 0 24 24\"\n",
              "       width=\"24px\">\n",
              "    <path d=\"M0 0h24v24H0V0z\" fill=\"none\"/>\n",
              "    <path d=\"M18.56 5.44l.94 2.06.94-2.06 2.06-.94-2.06-.94-.94-2.06-.94 2.06-2.06.94zm-11 1L8.5 8.5l.94-2.06 2.06-.94-2.06-.94L8.5 2.5l-.94 2.06-2.06.94zm10 10l.94 2.06.94-2.06 2.06-.94-2.06-.94-.94-2.06-.94 2.06-2.06.94z\"/><path d=\"M17.41 7.96l-1.37-1.37c-.4-.4-.92-.59-1.43-.59-.52 0-1.04.2-1.43.59L10.3 9.45l-7.72 7.72c-.78.78-.78 2.05 0 2.83L4 21.41c.39.39.9.59 1.41.59.51 0 1.02-.2 1.41-.59l7.78-7.78 2.81-2.81c.8-.78.8-2.07 0-2.86zM5.41 20L4 18.59l7.72-7.72 1.47 1.35L5.41 20z\"/>\n",
              "  </svg>\n",
              "      </button>\n",
              "      \n",
              "  <style>\n",
              "    .colab-df-container {\n",
              "      display:flex;\n",
              "      flex-wrap:wrap;\n",
              "      gap: 12px;\n",
              "    }\n",
              "\n",
              "    .colab-df-convert {\n",
              "      background-color: #E8F0FE;\n",
              "      border: none;\n",
              "      border-radius: 50%;\n",
              "      cursor: pointer;\n",
              "      display: none;\n",
              "      fill: #1967D2;\n",
              "      height: 32px;\n",
              "      padding: 0 0 0 0;\n",
              "      width: 32px;\n",
              "    }\n",
              "\n",
              "    .colab-df-convert:hover {\n",
              "      background-color: #E2EBFA;\n",
              "      box-shadow: 0px 1px 2px rgba(60, 64, 67, 0.3), 0px 1px 3px 1px rgba(60, 64, 67, 0.15);\n",
              "      fill: #174EA6;\n",
              "    }\n",
              "\n",
              "    [theme=dark] .colab-df-convert {\n",
              "      background-color: #3B4455;\n",
              "      fill: #D2E3FC;\n",
              "    }\n",
              "\n",
              "    [theme=dark] .colab-df-convert:hover {\n",
              "      background-color: #434B5C;\n",
              "      box-shadow: 0px 1px 3px 1px rgba(0, 0, 0, 0.15);\n",
              "      filter: drop-shadow(0px 1px 2px rgba(0, 0, 0, 0.3));\n",
              "      fill: #FFFFFF;\n",
              "    }\n",
              "  </style>\n",
              "\n",
              "      <script>\n",
              "        const buttonEl =\n",
              "          document.querySelector('#df-8500302e-eaf2-4836-83f5-68076769e4cd button.colab-df-convert');\n",
              "        buttonEl.style.display =\n",
              "          google.colab.kernel.accessAllowed ? 'block' : 'none';\n",
              "\n",
              "        async function convertToInteractive(key) {\n",
              "          const element = document.querySelector('#df-8500302e-eaf2-4836-83f5-68076769e4cd');\n",
              "          const dataTable =\n",
              "            await google.colab.kernel.invokeFunction('convertToInteractive',\n",
              "                                                     [key], {});\n",
              "          if (!dataTable) return;\n",
              "\n",
              "          const docLinkHtml = 'Like what you see? Visit the ' +\n",
              "            '<a target=\"_blank\" href=https://colab.research.google.com/notebooks/data_table.ipynb>data table notebook</a>'\n",
              "            + ' to learn more about interactive tables.';\n",
              "          element.innerHTML = '';\n",
              "          dataTable['output_type'] = 'display_data';\n",
              "          await google.colab.output.renderOutput(dataTable, element);\n",
              "          const docLink = document.createElement('div');\n",
              "          docLink.innerHTML = docLinkHtml;\n",
              "          element.appendChild(docLink);\n",
              "        }\n",
              "      </script>\n",
              "    </div>\n",
              "  </div>\n",
              "  "
            ]
          },
          "metadata": {},
          "execution_count": 3
        }
      ]
    },
    {
      "cell_type": "code",
      "source": [
        "words = {}\n",
        "lens = []\n",
        "for row in dfTrain[\"tweets\"]:\n",
        "  for word in row.split():\n",
        "    lens.append(len(row.split()))\n",
        "    if word in words.keys():\n",
        "      words[word] += 1\n",
        "    else:\n",
        "      words[word] = 1\n",
        "\n",
        "words_sorted = dict(sorted(words.items(), key=lambda item: item[1], reverse=True))"
      ],
      "metadata": {
        "id": "mdWYiMyunx_3"
      },
      "execution_count": null,
      "outputs": []
    },
    {
      "cell_type": "code",
      "source": [
        "lens.sort(reverse=True)"
      ],
      "metadata": {
        "id": "1RGZaQluuDH6"
      },
      "execution_count": null,
      "outputs": []
    },
    {
      "cell_type": "code",
      "source": [
        "plt.hist(lens)"
      ],
      "metadata": {
        "colab": {
          "base_uri": "https://localhost:8080/",
          "height": 537
        },
        "id": "qiWCgtFMuJK6",
        "outputId": "9344860b-b92a-4be7-dba5-9f526e2b2496"
      },
      "execution_count": null,
      "outputs": [
        {
          "output_type": "execute_result",
          "data": {
            "text/plain": [
              "(array([4.914000e+05, 1.012431e+06, 4.900260e+05, 6.030000e+02,\n",
              "        4.600000e+01, 5.700000e+01, 0.000000e+00, 7.900000e+01,\n",
              "        0.000000e+00, 1.110000e+02]),\n",
              " array([  1.,  12.,  23.,  34.,  45.,  56.,  67.,  78.,  89., 100., 111.]),\n",
              " <BarContainer object of 10 artists>)"
            ]
          },
          "metadata": {},
          "execution_count": 20
        },
        {
          "output_type": "display_data",
          "data": {
            "text/plain": [
              "<Figure size 640x480 with 1 Axes>"
            ],
            "image/png": "[encoded data removed]"
          },
          "metadata": {}
        }
      ]
    },
    {
      "cell_type": "code",
      "source": [
        "l95 = np.percentile(lens,95)"
      ],
      "metadata": {
        "id": "vAn8cXwyuZ_u"
      },
      "execution_count": null,
      "outputs": []
    },
    {
      "cell_type": "code",
      "source": [
        "len(words_sorted.keys()), sum(words_sorted.values())"
      ],
      "metadata": {
        "colab": {
          "base_uri": "https://localhost:8080/"
        },
        "id": "c-yStonKpI3j",
        "outputId": "b18ecc60-b509-4650-c7c1-2014ec891677"
      },
      "execution_count": null,
      "outputs": [
        {
          "output_type": "execute_result",
          "data": {
            "text/plain": [
              "(236155, 1994753)"
            ]
          },
          "metadata": {},
          "execution_count": 22
        }
      ]
    },
    {
      "cell_type": "code",
      "source": [
        "incremental = {}\n",
        "current_increment = 0\n",
        "increments = []\n",
        "for key in words_sorted.keys():\n",
        "  current_increment += words_sorted[key]\n",
        "  increments.append(current_increment)\n",
        "  incremental[current_increment] = key\n",
        "\n",
        "p95 = int(sum(words_sorted.values())/100*95)\n",
        "p95"
      ],
      "metadata": {
        "colab": {
          "base_uri": "https://localhost:8080/"
        },
        "id": "-B_ikNzdpNBi",
        "outputId": "a5a5ab60-291f-464a-d936-df196904a56a"
      },
      "execution_count": null,
      "outputs": [
        {
          "output_type": "execute_result",
          "data": {
            "text/plain": [
              "1895015"
            ]
          },
          "metadata": {},
          "execution_count": 23
        }
      ]
    },
    {
      "cell_type": "code",
      "source": [
        "array = np.asarray(increments)\n",
        "idx = (np.abs(array - p95)).argmin()\n",
        "tokens = array[idx]"
      ],
      "metadata": {
        "id": "mMDHuXmKrTmn"
      },
      "execution_count": null,
      "outputs": []
    },
    {
      "cell_type": "code",
      "source": [
        "incremental[tokens]"
      ],
      "metadata": {
        "colab": {
          "base_uri": "https://localhost:8080/",
          "height": 36
        },
        "id": "e1SszfHGrpQv",
        "outputId": "2d881d3c-7ed4-4bb1-f3fb-da469d708224"
      },
      "execution_count": null,
      "outputs": [
        {
          "output_type": "execute_result",
          "data": {
            "text/plain": [
              "\"ea'..\""
            ],
            "application/vnd.google.colaboratory.intrinsic+json": {
              "type": "string"
            }
          },
          "metadata": {},
          "execution_count": 25
        }
      ]
    },
    {
      "cell_type": "code",
      "source": [
        "from sklearn.feature_extraction.text import TfidfVectorizer\n",
        "from sklearn.naive_bayes import MultinomialNB\n",
        "from sklearn.pipeline import Pipeline\n",
        "\n",
        "model_0 = Pipeline([\n",
        "      (\"tfidf\", TfidfVectorizer()),\n",
        "      (\"clf\",MultinomialNB())\n",
        "])\n",
        "\n",
        "model_0.fit(dfTrain[\"tweets\"],dfTrain[\"sentiment\"])\n"
      ],
      "metadata": {
        "colab": {
          "base_uri": "https://localhost:8080/",
          "height": 127
        },
        "id": "FO2T3iLna2nP",
        "outputId": "138ba7ee-8c24-4202-840e-8576a304f787"
      },
      "execution_count": null,
      "outputs": [
        {
          "output_type": "execute_result",
          "data": {
            "text/plain": [
              "Pipeline(steps=[('tfidf', TfidfVectorizer()), ('clf', MultinomialNB())])"
            ],
            "text/html": [
              "<style>#sk-container-id-1 {color: black;background-color: white;}#sk-container-id-1 pre{padding: 0;}#sk-container-id-1 div.sk-toggleable {background-color: white;}#sk-container-id-1 label.sk-toggleable__label {cursor: pointer;display: block;width: 100%;margin-bottom: 0;padding: 0.3em;box-sizing: border-box;text-align: center;}#sk-container-id-1 label.sk-toggleable__label-arrow:before {content: \"▸\";float: left;margin-right: 0.25em;color: #696969;}#sk-container-id-1 label.sk-toggleable__label-arrow:hover:before {color: black;}#sk-container-id-1 div.sk-estimator:hover label.sk-toggleable__label-arrow:before {color: black;}#sk-container-id-1 div.sk-toggleable__content {max-height: 0;max-width: 0;overflow: hidden;text-align: left;background-color: #f0f8ff;}#sk-container-id-1 div.sk-toggleable__content pre {margin: 0.2em;color: black;border-radius: 0.25em;background-color: #f0f8ff;}#sk-container-id-1 input.sk-toggleable__control:checked~div.sk-toggleable__content {max-height: 200px;max-width: 100%;overflow: auto;}#sk-container-id-1 input.sk-toggleable__control:checked~label.sk-toggleable__label-arrow:before {content: \"▾\";}#sk-container-id-1 div.sk-estimator input.sk-toggleable__control:checked~label.sk-toggleable__label {background-color: #d4ebff;}#sk-container-id-1 div.sk-label input.sk-toggleable__control:checked~label.sk-toggleable__label {background-color: #d4ebff;}#sk-container-id-1 input.sk-hidden--visually {border: 0;clip: rect(1px 1px 1px 1px);clip: rect(1px, 1px, 1px, 1px);height: 1px;margin: -1px;overflow: hidden;padding: 0;position: absolute;width: 1px;}#sk-container-id-1 div.sk-estimator {font-family: monospace;background-color: #f0f8ff;border: 1px dotted black;border-radius: 0.25em;box-sizing: border-box;margin-bottom: 0.5em;}#sk-container-id-1 div.sk-estimator:hover {background-color: #d4ebff;}#sk-container-id-1 div.sk-parallel-item::after {content: \"\";width: 100%;border-bottom: 1px solid gray;flex-grow: 1;}#sk-container-id-1 div.sk-label:hover label.sk-toggleable__label {background-color: #d4ebff;}#sk-container-id-1 div.sk-serial::before {content: \"\";position: absolute;border-left: 1px solid gray;box-sizing: border-box;top: 0;bottom: 0;left: 50%;z-index: 0;}#sk-container-id-1 div.sk-serial {display: flex;flex-direction: column;align-items: center;background-color: white;padding-right: 0.2em;padding-left: 0.2em;position: relative;}#sk-container-id-1 div.sk-item {position: relative;z-index: 1;}#sk-container-id-1 div.sk-parallel {display: flex;align-items: stretch;justify-content: center;background-color: white;position: relative;}#sk-container-id-1 div.sk-item::before, #sk-container-id-1 div.sk-parallel-item::before {content: \"\";position: absolute;border-left: 1px solid gray;box-sizing: border-box;top: 0;bottom: 0;left: 50%;z-index: -1;}#sk-container-id-1 div.sk-parallel-item {display: flex;flex-direction: column;z-index: 1;position: relative;background-color: white;}#sk-container-id-1 div.sk-parallel-item:first-child::after {align-self: flex-end;width: 50%;}#sk-container-id-1 div.sk-parallel-item:last-child::after {align-self: flex-start;width: 50%;}#sk-container-id-1 div.sk-parallel-item:only-child::after {width: 0;}#sk-container-id-1 div.sk-dashed-wrapped {border: 1px dashed gray;margin: 0 0.4em 0.5em 0.4em;box-sizing: border-box;padding-bottom: 0.4em;background-color: white;}#sk-container-id-1 div.sk-label label {font-family: monospace;font-weight: bold;display: inline-block;line-height: 1.2em;}#sk-container-id-1 div.sk-label-container {text-align: center;}#sk-container-id-1 div.sk-container {/* jupyter's `normalize.less` sets `[hidden] { display: none; }` but bootstrap.min.css set `[hidden] { display: none !important; }` so we also need the `!important` here to be able to override the default hidden behavior on the sphinx rendered scikit-learn.org. See: https://github.com/scikit-learn/scikit-learn/issues/21755 */display: inline-block !important;position: relative;}#sk-container-id-1 div.sk-text-repr-fallback {display: none;}</style><div id=\"sk-container-id-1\" class=\"sk-top-container\"><div class=\"sk-text-repr-fallback\"><pre>Pipeline(steps=[(&#x27;tfidf&#x27;, TfidfVectorizer()), (&#x27;clf&#x27;, MultinomialNB())])</pre><b>In a Jupyter environment, please rerun this cell to show the HTML representation or trust the notebook. <br />On GitHub, the HTML representation is unable to render, please try loading this page with nbviewer.org.</b></div><div class=\"sk-container\" hidden><div class=\"sk-item sk-dashed-wrapped\"><div class=\"sk-label-container\"><div class=\"sk-label sk-toggleable\"><input class=\"sk-toggleable__control sk-hidden--visually\" id=\"sk-estimator-id-1\" type=\"checkbox\" ><label for=\"sk-estimator-id-1\" class=\"sk-toggleable__label sk-toggleable__label-arrow\">Pipeline</label><div class=\"sk-toggleable__content\"><pre>Pipeline(steps=[(&#x27;tfidf&#x27;, TfidfVectorizer()), (&#x27;clf&#x27;, MultinomialNB())])</pre></div></div></div><div class=\"sk-serial\"><div class=\"sk-item\"><div class=\"sk-estimator sk-toggleable\"><input class=\"sk-toggleable__control sk-hidden--visually\" id=\"sk-estimator-id-2\" type=\"checkbox\" ><label for=\"sk-estimator-id-2\" class=\"sk-toggleable__label sk-toggleable__label-arrow\">TfidfVectorizer</label><div class=\"sk-toggleable__content\"><pre>TfidfVectorizer()</pre></div></div></div><div class=\"sk-item\"><div class=\"sk-estimator sk-toggleable\"><input class=\"sk-toggleable__control sk-hidden--visually\" id=\"sk-estimator-id-3\" type=\"checkbox\" ><label for=\"sk-estimator-id-3\" class=\"sk-toggleable__label sk-toggleable__label-arrow\">MultinomialNB</label><div class=\"sk-toggleable__content\"><pre>MultinomialNB()</pre></div></div></div></div></div></div></div>"
            ]
          },
          "metadata": {},
          "execution_count": 21
        }
      ]
    },
    {
      "cell_type": "code",
      "source": [
        "model_0_score = model_0.score(dfTest[\"tweets\"],dfTest[\"sentiment\"])"
      ],
      "metadata": {
        "id": "wFv-DUUbzuhI"
      },
      "execution_count": null,
      "outputs": []
    },
    {
      "cell_type": "code",
      "source": [
        "model_0_score*100"
      ],
      "metadata": {
        "colab": {
          "base_uri": "https://localhost:8080/"
        },
        "id": "te47HuVBz3ui",
        "outputId": "16dcf705-7c94-477d-f09a-c9673f7bad80"
      },
      "execution_count": null,
      "outputs": [
        {
          "output_type": "execute_result",
          "data": {
            "text/plain": [
              "75.93309461595535"
            ]
          },
          "metadata": {},
          "execution_count": 25
        }
      ]
    },
    {
      "cell_type": "code",
      "source": [
        "model_0_predictions = model_0.predict(dfTest[\"tweets\"])"
      ],
      "metadata": {
        "id": "J6wGgIy80Wc4"
      },
      "execution_count": null,
      "outputs": []
    },
    {
      "cell_type": "code",
      "source": [
        "model_0_predictions[:5]"
      ],
      "metadata": {
        "colab": {
          "base_uri": "https://localhost:8080/"
        },
        "id": "O6pWiNVS0wD3",
        "outputId": "43d56cdd-d80f-4cab-e702-b224c7d6e96a"
      },
      "execution_count": null,
      "outputs": [
        {
          "output_type": "execute_result",
          "data": {
            "text/plain": [
              "array([1, 0, 0, 0, 0])"
            ]
          },
          "metadata": {},
          "execution_count": 28
        }
      ]
    },
    {
      "cell_type": "code",
      "source": [
        "from sklearn import metrics\n",
        "def evaluate_predictions(y_true,y_pred):\n",
        "  output = {}\n",
        "  output[\"accuracy\"] = metrics.accuracy_score(y_true=y_true,\n",
        "                                                      y_pred=y_pred)\n",
        "  output[\"precision\"] = metrics.precision_score(y_true=y_true,\n",
        "                                                      y_pred=y_pred)\n",
        "  output[\"recall\"] = metrics.recall_score(y_true=y_true,\n",
        "                                                      y_pred=y_pred)\n",
        "  output[\"f1\"] = metrics.f1_score(y_true=y_true, average=\"weighted\",\n",
        "                                                      y_pred=y_pred)\n",
        "  return output"
      ],
      "metadata": {
        "id": "6TO51f6X0HFG"
      },
      "execution_count": 17,
      "outputs": []
    },
    {
      "cell_type": "code",
      "source": [
        "evaluate_predictions(dfTest[\"sentiment\"].to_numpy(),model_0_predictions)"
      ],
      "metadata": {
        "colab": {
          "base_uri": "https://localhost:8080/"
        },
        "id": "pzD4R-Mg0SMO",
        "outputId": "a00b98c4-c5f6-4d18-ad63-6ae9b544bbc5"
      },
      "execution_count": null,
      "outputs": [
        {
          "output_type": "execute_result",
          "data": {
            "text/plain": [
              "{'accuracy': 0.7593309461595535,\n",
              " 'precision': 0.8030781967336494,\n",
              " 'recall': 0.6877759515292146,\n",
              " 'f1': 0.7580988079001916}"
            ]
          },
          "metadata": {},
          "execution_count": 49
        }
      ]
    },
    {
      "cell_type": "code",
      "source": [
        "train_dataset = tf.data.Dataset.from_tensor_slices((dfTrain[\"tweets\"],dfTrain[\"sentiment\"])).batch(128).prefetch(tf.data.AUTOTUNE)\n",
        "test_dataset = tf.data.Dataset.from_tensor_slices((dfTest[\"tweets\"],dfTest[\"sentiment\"])).batch(128).prefetch(tf.data.AUTOTUNE)"
      ],
      "metadata": {
        "id": "umGiV5O9r1CO"
      },
      "execution_count": null,
      "outputs": []
    },
    {
      "cell_type": "code",
      "source": [
        "text_vectorization = tf.keras.layers.TextVectorization(max_tokens=tokens,output_sequence_length=int(l95), pad_to_max_tokens=True)\n",
        "text_vectorization.adapt(dfTrain[\"tweets\"].to_numpy())"
      ],
      "metadata": {
        "id": "HD2yHk0WnUdD"
      },
      "execution_count": null,
      "outputs": []
    },
    {
      "cell_type": "code",
      "source": [
        "text_vectorization(random.choice(dfTrain[\"tweets\"].to_numpy()))"
      ],
      "metadata": {
        "colab": {
          "base_uri": "https://localhost:8080/"
        },
        "id": "AMEQJOOev98D",
        "outputId": "9ac917ca-cfe0-4c9a-dbb2-7b72c130d0c4"
      },
      "execution_count": null,
      "outputs": [
        {
          "output_type": "execute_result",
          "data": {
            "text/plain": [
              "<tf.Tensor: shape=(27,), dtype=int64, numpy=\n",
              "array([112256,    330,      2,     65,     41,      3,    224,      0,\n",
              "            0,      0,      0,      0,      0,      0,      0,      0,\n",
              "            0,      0,      0,      0,      0,      0,      0,      0,\n",
              "            0,      0,      0])>"
            ]
          },
          "metadata": {},
          "execution_count": 14
        }
      ]
    },
    {
      "cell_type": "code",
      "source": [
        "vocab = text_vectorization.get_vocabulary()"
      ],
      "metadata": {
        "id": "Wso4G9gHwwtu"
      },
      "execution_count": null,
      "outputs": []
    },
    {
      "cell_type": "code",
      "source": [
        "len(vocab)"
      ],
      "metadata": {
        "colab": {
          "base_uri": "https://localhost:8080/"
        },
        "id": "dNG5Aezrw2bp",
        "outputId": "8d63bade-3a07-4f3d-b04d-1952a25323bb"
      },
      "execution_count": null,
      "outputs": [
        {
          "output_type": "execute_result",
          "data": {
            "text/plain": [
              "151336"
            ]
          },
          "metadata": {},
          "execution_count": 30
        }
      ]
    },
    {
      "cell_type": "code",
      "source": [
        "input = tf.keras.Input(dtype=tf.string, shape=(1,), name=\"input\")\n",
        "x = text_vectorization(input)\n",
        "x = tf.keras.layers.Embedding(input_dim=len(vocab), output_dim=128)(x)\n",
        "x = tf.keras.layers.Dropout(0.5)(x)\n",
        "x = tf.keras.layers.Bidirectional(tf.keras.layers.LSTM(64))(x)\n",
        "x = tf.keras.layers.Dropout(0.5)(x)\n",
        "x = tf.keras.layers.Dense(64, activation=\"relu\")(x)\n",
        "output = tf.keras.layers.Dense(1, activation=\"sigmoid\")(x)\n",
        "\n",
        "model = tf.keras.Model(input, output)"
      ],
      "metadata": {
        "id": "_XAKmRglwRj8"
      },
      "execution_count": null,
      "outputs": []
    },
    {
      "cell_type": "code",
      "source": [
        "model.compile(loss = tf.keras.losses.BinaryCrossentropy(),\n",
        "              optimizer = tf.keras.optimizers.Adam(),\n",
        "              metrics=[\"accuracy\"])"
      ],
      "metadata": {
        "id": "h4NoEW8dxy_o"
      },
      "execution_count": null,
      "outputs": []
    },
    {
      "cell_type": "code",
      "source": [
        "history = model.fit(train_dataset, epochs=15, steps_per_epoch=len(train_dataset),\n",
        "          validation_data=test_dataset, validation_steps = len(test_dataset))"
      ],
      "metadata": {
        "colab": {
          "base_uri": "https://localhost:8080/"
        },
        "id": "XE814j5ByUv0",
        "outputId": "fc6fc275-364d-47a2-bb76-9fe6db193749"
      },
      "execution_count": null,
      "outputs": [
        {
          "output_type": "stream",
          "name": "stdout",
          "text": [
            "Epoch 1/15\n",
            "1172/1172 [==============================] - 49s 38ms/step - loss: 0.4896 - accuracy: 0.7619 - val_loss: 0.4467 - val_accuracy: 0.7900\n",
            "Epoch 2/15\n",
            "1172/1172 [==============================] - 18s 15ms/step - loss: 0.3525 - accuracy: 0.8467 - val_loss: 0.4853 - val_accuracy: 0.7783\n",
            "Epoch 3/15\n",
            "1172/1172 [==============================] - 17s 15ms/step - loss: 0.2371 - accuracy: 0.9036 - val_loss: 0.5453 - val_accuracy: 0.7717\n",
            "Epoch 4/15\n",
            "1172/1172 [==============================] - 17s 15ms/step - loss: 0.1758 - accuracy: 0.9304 - val_loss: 0.6237 - val_accuracy: 0.7628\n",
            "Epoch 5/15\n",
            "1172/1172 [==============================] - 17s 15ms/step - loss: 0.1391 - accuracy: 0.9453 - val_loss: 0.6810 - val_accuracy: 0.7649\n",
            "Epoch 6/15\n",
            "1172/1172 [==============================] - 17s 14ms/step - loss: 0.1152 - accuracy: 0.9552 - val_loss: 0.7739 - val_accuracy: 0.7615\n",
            "Epoch 7/15\n",
            "1172/1172 [==============================] - 17s 15ms/step - loss: 0.0988 - accuracy: 0.9612 - val_loss: 0.8054 - val_accuracy: 0.7545\n",
            "Epoch 8/15\n",
            "1172/1172 [==============================] - 18s 15ms/step - loss: 0.0865 - accuracy: 0.9659 - val_loss: 0.8728 - val_accuracy: 0.7573\n",
            "Epoch 9/15\n",
            "1172/1172 [==============================] - 18s 15ms/step - loss: 0.0792 - accuracy: 0.9689 - val_loss: 0.9330 - val_accuracy: 0.7543\n",
            "Epoch 10/15\n",
            "1172/1172 [==============================] - 18s 16ms/step - loss: 0.0718 - accuracy: 0.9718 - val_loss: 0.9617 - val_accuracy: 0.7537\n",
            "Epoch 11/15\n",
            "1172/1172 [==============================] - 17s 15ms/step - loss: 0.0662 - accuracy: 0.9734 - val_loss: 1.0114 - val_accuracy: 0.7563\n",
            "Epoch 12/15\n",
            "1172/1172 [==============================] - 17s 15ms/step - loss: 0.0608 - accuracy: 0.9757 - val_loss: 1.0425 - val_accuracy: 0.7519\n",
            "Epoch 13/15\n",
            "1172/1172 [==============================] - 17s 15ms/step - loss: 0.0573 - accuracy: 0.9774 - val_loss: 1.0943 - val_accuracy: 0.7537\n",
            "Epoch 14/15\n",
            "1172/1172 [==============================] - 18s 15ms/step - loss: 0.0543 - accuracy: 0.9784 - val_loss: 1.1649 - val_accuracy: 0.7568\n",
            "Epoch 15/15\n",
            "1172/1172 [==============================] - 18s 15ms/step - loss: 0.0505 - accuracy: 0.9796 - val_loss: 1.2094 - val_accuracy: 0.7552\n"
          ]
        }
      ]
    },
    {
      "cell_type": "code",
      "source": [
        "plt.plot(history.history[\"val_accuracy\"], label=\"val_accuracy\")\n",
        "plt.plot(history.history[\"accuracy\"], label=\"accuracy\")\n",
        "plt.legend()"
      ],
      "metadata": {
        "colab": {
          "base_uri": "https://localhost:8080/",
          "height": 448
        },
        "id": "X-0LzOjx9f40",
        "outputId": "8e8a8aaa-1c7f-4e3a-fe28-510b9956b9f8"
      },
      "execution_count": null,
      "outputs": [
        {
          "output_type": "execute_result",
          "data": {
            "text/plain": [
              "<matplotlib.legend.Legend at 0x7f16ddda90c0>"
            ]
          },
          "metadata": {},
          "execution_count": 56
        },
        {
          "output_type": "display_data",
          "data": {
            "text/plain": [
              "<Figure size 640x480 with 1 Axes>"
            ],
            "image/png": "[encoded data removed]"
          },
          "metadata": {}
        }
      ]
    },
    {
      "cell_type": "code",
      "source": [
        "model_predictions = model.predict(test_dataset)"
      ],
      "metadata": {
        "colab": {
          "base_uri": "https://localhost:8080/"
        },
        "id": "z60FbSp41AgW",
        "outputId": "bdaab3e2-e4cc-4a7a-8f51-ebe03132078f"
      },
      "execution_count": null,
      "outputs": [
        {
          "output_type": "stream",
          "name": "stdout",
          "text": [
            "485/485 [==============================] - 6s 8ms/step\n"
          ]
        }
      ]
    },
    {
      "cell_type": "code",
      "source": [
        "model_y_pred = tf.math.round(tf.squeeze(model_predictions))"
      ],
      "metadata": {
        "id": "uYdotVfs1Igk"
      },
      "execution_count": null,
      "outputs": []
    },
    {
      "cell_type": "code",
      "source": [
        "model_y_pred[:5]"
      ],
      "metadata": {
        "colab": {
          "base_uri": "https://localhost:8080/"
        },
        "id": "0FH0j2w51hQX",
        "outputId": "97f8a5ea-63bd-4d21-9dc7-de68a28ffcc4"
      },
      "execution_count": null,
      "outputs": [
        {
          "output_type": "execute_result",
          "data": {
            "text/plain": [
              "<tf.Tensor: shape=(5,), dtype=float32, numpy=array([1., 0., 0., 0., 0.], dtype=float32)>"
            ]
          },
          "metadata": {},
          "execution_count": 35
        }
      ]
    },
    {
      "cell_type": "code",
      "source": [
        "evaluate_predictions(dfTest[\"sentiment\"].to_numpy(),model_y_pred)"
      ],
      "metadata": {
        "colab": {
          "base_uri": "https://localhost:8080/"
        },
        "id": "o4jm5Rn_ynMv",
        "outputId": "036816ff-00e4-4018-f41a-23c308555b21"
      },
      "execution_count": null,
      "outputs": [
        {
          "output_type": "execute_result",
          "data": {
            "text/plain": [
              "{'accuracy': 0.7527017000548405,\n",
              " 'precision': 0.7771656602041177,\n",
              " 'recall': 0.7092397434657901,\n",
              " 'f1': 0.7522381204144283}"
            ]
          },
          "metadata": {},
          "execution_count": 50
        }
      ]
    },
    {
      "cell_type": "code",
      "source": [
        "model_Conv = tf.keras.Sequential([\n",
        "    text_vectorization,\n",
        "    tf.keras.layers.Embedding(input_dim=len(vocab), output_dim=128),\n",
        "    tf.keras.layers.Conv1D(128,5,padding=\"valid\"),\n",
        "    tf.keras.layers.Dropout(0.7),\n",
        "    tf.keras.layers.Conv1D(128,5,padding=\"same\"),\n",
        "    tf.keras.layers.Dropout(0.5),\n",
        "    tf.keras.layers.GlobalAveragePooling1D(),\n",
        "    tf.keras.layers.Dense(128, activation=\"relu\"),\n",
        "    tf.keras.layers.Dropout(0.5),\n",
        "    tf.keras.layers.Dense(1,activation=\"sigmoid\")\n",
        "])\n",
        "\n",
        "model_Conv.compile(loss = tf.keras.losses.BinaryCrossentropy(),\n",
        "              optimizer = tf.keras.optimizers.Adam(),\n",
        "              metrics=[\"accuracy\"])\n",
        "history_Conv = model_Conv.fit(train_dataset, epochs=15,\n",
        "                              steps_per_epoch=len(train_dataset),\n",
        "                              validation_data=test_dataset,\n",
        "                              validation_steps = len(test_dataset))"
      ],
      "metadata": {
        "colab": {
          "base_uri": "https://localhost:8080/"
        },
        "id": "3NmGTYHx3H0B",
        "outputId": "e20ff753-cd27-4697-b076-67c28c4a2f0a"
      },
      "execution_count": null,
      "outputs": [
        {
          "output_type": "stream",
          "name": "stdout",
          "text": [
            "Epoch 1/15\n",
            "1172/1172 [==============================] - 46s 35ms/step - loss: 0.4992 - accuracy: 0.7552 - val_loss: 0.4649 - val_accuracy: 0.7841\n",
            "Epoch 2/15\n",
            "1172/1172 [==============================] - 15s 13ms/step - loss: 0.3277 - accuracy: 0.8587 - val_loss: 0.5422 - val_accuracy: 0.7489\n",
            "Epoch 3/15\n",
            "1172/1172 [==============================] - 16s 13ms/step - loss: 0.1842 - accuracy: 0.9256 - val_loss: 0.7377 - val_accuracy: 0.7392\n",
            "Epoch 4/15\n",
            "1172/1172 [==============================] - 14s 12ms/step - loss: 0.1210 - accuracy: 0.9529 - val_loss: 0.8583 - val_accuracy: 0.7392\n",
            "Epoch 5/15\n",
            "1172/1172 [==============================] - 14s 12ms/step - loss: 0.0948 - accuracy: 0.9634 - val_loss: 1.0352 - val_accuracy: 0.7127\n",
            "Epoch 6/15\n",
            "1172/1172 [==============================] - 15s 13ms/step - loss: 0.0818 - accuracy: 0.9686 - val_loss: 1.0433 - val_accuracy: 0.7324\n",
            "Epoch 7/15\n",
            "1172/1172 [==============================] - 15s 13ms/step - loss: 0.0681 - accuracy: 0.9740 - val_loss: 1.1222 - val_accuracy: 0.7297\n",
            "Epoch 8/15\n",
            "1172/1172 [==============================] - 15s 13ms/step - loss: 0.0606 - accuracy: 0.9773 - val_loss: 1.2245 - val_accuracy: 0.7265\n",
            "Epoch 9/15\n",
            "1172/1172 [==============================] - 14s 12ms/step - loss: 0.0549 - accuracy: 0.9790 - val_loss: 1.3020 - val_accuracy: 0.7175\n",
            "Epoch 10/15\n",
            "1172/1172 [==============================] - 15s 13ms/step - loss: 0.0546 - accuracy: 0.9792 - val_loss: 1.3181 - val_accuracy: 0.7251\n",
            "Epoch 11/15\n",
            "1172/1172 [==============================] - 14s 12ms/step - loss: 0.0520 - accuracy: 0.9796 - val_loss: 1.3458 - val_accuracy: 0.7160\n",
            "Epoch 12/15\n",
            "1172/1172 [==============================] - 14s 12ms/step - loss: 0.0504 - accuracy: 0.9806 - val_loss: 1.4206 - val_accuracy: 0.7271\n",
            "Epoch 13/15\n",
            "1172/1172 [==============================] - 15s 13ms/step - loss: 0.0478 - accuracy: 0.9817 - val_loss: 1.5339 - val_accuracy: 0.7297\n",
            "Epoch 14/15\n",
            "1172/1172 [==============================] - 15s 13ms/step - loss: 0.0452 - accuracy: 0.9828 - val_loss: 1.5257 - val_accuracy: 0.7231\n",
            "Epoch 15/15\n",
            "1172/1172 [==============================] - 14s 12ms/step - loss: 0.0437 - accuracy: 0.9835 - val_loss: 1.7170 - val_accuracy: 0.7245\n"
          ]
        }
      ]
    },
    {
      "cell_type": "code",
      "source": [
        "plt.plot(history_Conv.history[\"val_accuracy\"], label=\"val_accuracy\")\n",
        "plt.plot(history_Conv.history[\"accuracy\"], label=\"accuracy\")\n",
        "plt.legend()"
      ],
      "metadata": {
        "colab": {
          "base_uri": "https://localhost:8080/",
          "height": 448
        },
        "id": "f4qABnZLDPWp",
        "outputId": "10aced7d-a073-4927-9b3d-804138e1c771"
      },
      "execution_count": null,
      "outputs": [
        {
          "output_type": "execute_result",
          "data": {
            "text/plain": [
              "<matplotlib.legend.Legend at 0x7f16dda37ca0>"
            ]
          },
          "metadata": {},
          "execution_count": 60
        },
        {
          "output_type": "display_data",
          "data": {
            "text/plain": [
              "<Figure size 640x480 with 1 Axes>"
            ],
            "image/png": "[encoded data removed]"
          },
          "metadata": {}
        }
      ]
    },
    {
      "cell_type": "code",
      "source": [
        "model_Conv_predictions = model_Conv.predict(test_dataset)\n",
        "model_Conv_y_pred = tf.math.round(tf.squeeze(model_Conv_predictions))\n",
        "evaluate_predictions(dfTest[\"sentiment\"], model_Conv_y_pred)"
      ],
      "metadata": {
        "colab": {
          "base_uri": "https://localhost:8080/"
        },
        "id": "2tuZtRLPBDtI",
        "outputId": "243516ca-dd37-4ae7-92f6-ad356bff5bef"
      },
      "execution_count": null,
      "outputs": [
        {
          "output_type": "stream",
          "name": "stdout",
          "text": [
            "485/485 [==============================] - 1s 3ms/step\n"
          ]
        },
        {
          "output_type": "execute_result",
          "data": {
            "text/plain": [
              "{'accuracy': 0.724491112616536,\n",
              " 'precision': 0.7198197062346341,\n",
              " 'recall': 0.7359889135969577,\n",
              " 'f1': 0.7244532880758515}"
            ]
          },
          "metadata": {},
          "execution_count": 61
        }
      ]
    },
    {
      "cell_type": "markdown",
      "source": [
        "## First Experiments\n",
        "### What's been achieved so far:\n",
        "* Defined a baseline model using tf-idf and naive bayes\n",
        "* Preprocessing dataset in ordet to set up correctly Text Vectorization and Embeddings Layers\n",
        "  * Used 95% of total words as vocabulary and 95 percentile of sequence length\n",
        "* Built first model with bidirectional LSTM\n",
        "  * It overfits... added \"aggressive\" dropout at 0.5 after each layer. Overfitting mitigated and the results are slightly better than baseline\n",
        "* Built second model with Convolution 1D\n",
        "  * This overfits too. Added \"aggressive\" dropout at 0.5 after each layere here too but not performs well...\n",
        "\n",
        "### Next Steps to try:\n",
        "* Remove special characters from input sentences\n",
        "* Change vocabulary size and sequence length\n",
        "* Try different kind of neural networks\n",
        "* Implement some kind of tolerance:\n",
        "  * for example instead of using  `tf.math.round()` and so bring to one anything above 0.5, use something to flag positive everything above 0.3\n",
        "\n"
      ],
      "metadata": {
        "id": "_WfTxwLj--Bw"
      }
    },
    {
      "cell_type": "markdown",
      "source": [
        "## Improve Preprocessing\n",
        "The tweets were used almost as they are, now I will perform some preprocessing on the data.\n"
      ],
      "metadata": {
        "id": "sFtLAEYDvy2T"
      }
    },
    {
      "cell_type": "code",
      "source": [
        "import string\n",
        "def preprocess_tweets(dataframe):\n",
        "  dataframe[\"preprocessed_tweets\"] = dataframe['tweets'].str.lower()\n",
        "  for character in string.digits:\n",
        "    dataframe[\"preprocessed_tweets\"] = dataframe[\"preprocessed_tweets\"].str.replace(character,'@')\n",
        "  # removing mentions and hashtags\n",
        "  dataframe['preprocessed_tweets'] = dataframe['preprocessed_tweets'].str.replace(\"\\@[^\\s]*\",\"\").str.replace('\\#[^\\s]*',\"\")\n",
        "  # removing punctuation\n",
        "  for character in string.punctuation:\n",
        "    dataframe[\"preprocessed_tweets\"] = dataframe[\"preprocessed_tweets\"].str.replace(character,'')\n",
        "  #dataframe['preprocessed_tweets']= dataframe['preprocessed_tweets'].str.replace('\\#[^\\s]*',\"\")\n",
        "\n",
        "  dataframe[\"words\"] = dataframe[\"preprocessed_tweets\"].str.split().str.len()\n",
        "  #dataframe[\"len\"] = dataframe[\"preprocessed_tweets\"].str.len()\n",
        "\n",
        "preprocess_tweets(dfTrain)\n",
        "preprocess_tweets(dfTest)\n",
        "dfTrain.head()\n",
        "\n"
      ],
      "metadata": {
        "colab": {
          "base_uri": "https://localhost:8080/",
          "height": 365
        },
        "id": "vY6b6jzYwUXv",
        "outputId": "2794089a-b1a6-4602-b365-77ff450ae3a2"
      },
      "execution_count": 4,
      "outputs": [
        {
          "output_type": "stream",
          "name": "stderr",
          "text": [
            "<ipython-input-4-2a9c5b7040f2>:7: FutureWarning: The default value of regex will change from True to False in a future version.\n",
            "  dataframe['preprocessed_tweets'] = dataframe['preprocessed_tweets'].str.replace(\"\\@[^\\s]*\",\"\").str.replace('\\#[^\\s]*',\"\")\n",
            "<ipython-input-4-2a9c5b7040f2>:10: FutureWarning: The default value of regex will change from True to False in a future version. In addition, single character regular expressions will *not* be treated as literal strings when regex=True.\n",
            "  dataframe[\"preprocessed_tweets\"] = dataframe[\"preprocessed_tweets\"].str.replace(character,'')\n",
            "<ipython-input-4-2a9c5b7040f2>:7: FutureWarning: The default value of regex will change from True to False in a future version.\n",
            "  dataframe['preprocessed_tweets'] = dataframe['preprocessed_tweets'].str.replace(\"\\@[^\\s]*\",\"\").str.replace('\\#[^\\s]*',\"\")\n",
            "<ipython-input-4-2a9c5b7040f2>:10: FutureWarning: The default value of regex will change from True to False in a future version. In addition, single character regular expressions will *not* be treated as literal strings when regex=True.\n",
            "  dataframe[\"preprocessed_tweets\"] = dataframe[\"preprocessed_tweets\"].str.replace(character,'')\n"
          ]
        },
        {
          "output_type": "execute_result",
          "data": {
            "text/plain": [
              "   sentiment                                             tweets  \\\n",
              "0          0  Starting  back at work today   Looks like it'l...   \n",
              "1          1  Sugar levels dropping... munchies setting in. ...   \n",
              "2          1     @karineb22 yeah!!! have a great summer break!    \n",
              "3          1  hannah montana was very good.  now going to re...   \n",
              "4          1  @Mayra326 aww, have fun!  I just had my 3D las...   \n",
              "\n",
              "                                 preprocessed_tweets  words  \n",
              "0  starting  back at work today   looks like itll...     16  \n",
              "1  sugar levels dropping munchies setting in luck...     16  \n",
              "2                    yeah have a great summer break       6  \n",
              "3  hannah montana was very good  now going to rea...     10  \n",
              "4             aww have fun  i just had my  last week      9  "
            ],
            "text/html": [
              "\n",
              "  <div id=\"df-2b6653b4-d473-498d-a589-d09b3ea3c420\">\n",
              "    <div class=\"colab-df-container\">\n",
              "      <div>\n",
              "<style scoped>\n",
              "    .dataframe tbody tr th:only-of-type {\n",
              "        vertical-align: middle;\n",
              "    }\n",
              "\n",
              "    .dataframe tbody tr th {\n",
              "        vertical-align: top;\n",
              "    }\n",
              "\n",
              "    .dataframe thead th {\n",
              "        text-align: right;\n",
              "    }\n",
              "</style>\n",
              "<table border=\"1\" class=\"dataframe\">\n",
              "  <thead>\n",
              "    <tr style=\"text-align: right;\">\n",
              "      <th></th>\n",
              "      <th>sentiment</th>\n",
              "      <th>tweets</th>\n",
              "      <th>preprocessed_tweets</th>\n",
              "      <th>words</th>\n",
              "    </tr>\n",
              "  </thead>\n",
              "  <tbody>\n",
              "    <tr>\n",
              "      <th>0</th>\n",
              "      <td>0</td>\n",
              "      <td>Starting  back at work today   Looks like it'l...</td>\n",
              "      <td>starting  back at work today   looks like itll...</td>\n",
              "      <td>16</td>\n",
              "    </tr>\n",
              "    <tr>\n",
              "      <th>1</th>\n",
              "      <td>1</td>\n",
              "      <td>Sugar levels dropping... munchies setting in. ...</td>\n",
              "      <td>sugar levels dropping munchies setting in luck...</td>\n",
              "      <td>16</td>\n",
              "    </tr>\n",
              "    <tr>\n",
              "      <th>2</th>\n",
              "      <td>1</td>\n",
              "      <td>@karineb22 yeah!!! have a great summer break!</td>\n",
              "      <td>yeah have a great summer break</td>\n",
              "      <td>6</td>\n",
              "    </tr>\n",
              "    <tr>\n",
              "      <th>3</th>\n",
              "      <td>1</td>\n",
              "      <td>hannah montana was very good.  now going to re...</td>\n",
              "      <td>hannah montana was very good  now going to rea...</td>\n",
              "      <td>10</td>\n",
              "    </tr>\n",
              "    <tr>\n",
              "      <th>4</th>\n",
              "      <td>1</td>\n",
              "      <td>@Mayra326 aww, have fun!  I just had my 3D las...</td>\n",
              "      <td>aww have fun  i just had my  last week</td>\n",
              "      <td>9</td>\n",
              "    </tr>\n",
              "  </tbody>\n",
              "</table>\n",
              "</div>\n",
              "      <button class=\"colab-df-convert\" onclick=\"convertToInteractive('df-2b6653b4-d473-498d-a589-d09b3ea3c420')\"\n",
              "              title=\"Convert this dataframe to an interactive table.\"\n",
              "              style=\"display:none;\">\n",
              "        \n",
              "  <svg xmlns=\"http://www.w3.org/2000/svg\" height=\"24px\"viewBox=\"0 0 24 24\"\n",
              "       width=\"24px\">\n",
              "    <path d=\"M0 0h24v24H0V0z\" fill=\"none\"/>\n",
              "    <path d=\"M18.56 5.44l.94 2.06.94-2.06 2.06-.94-2.06-.94-.94-2.06-.94 2.06-2.06.94zm-11 1L8.5 8.5l.94-2.06 2.06-.94-2.06-.94L8.5 2.5l-.94 2.06-2.06.94zm10 10l.94 2.06.94-2.06 2.06-.94-2.06-.94-.94-2.06-.94 2.06-2.06.94z\"/><path d=\"M17.41 7.96l-1.37-1.37c-.4-.4-.92-.59-1.43-.59-.52 0-1.04.2-1.43.59L10.3 9.45l-7.72 7.72c-.78.78-.78 2.05 0 2.83L4 21.41c.39.39.9.59 1.41.59.51 0 1.02-.2 1.41-.59l7.78-7.78 2.81-2.81c.8-.78.8-2.07 0-2.86zM5.41 20L4 18.59l7.72-7.72 1.47 1.35L5.41 20z\"/>\n",
              "  </svg>\n",
              "      </button>\n",
              "      \n",
              "  <style>\n",
              "    .colab-df-container {\n",
              "      display:flex;\n",
              "      flex-wrap:wrap;\n",
              "      gap: 12px;\n",
              "    }\n",
              "\n",
              "    .colab-df-convert {\n",
              "      background-color: #E8F0FE;\n",
              "      border: none;\n",
              "      border-radius: 50%;\n",
              "      cursor: pointer;\n",
              "      display: none;\n",
              "      fill: #1967D2;\n",
              "      height: 32px;\n",
              "      padding: 0 0 0 0;\n",
              "      width: 32px;\n",
              "    }\n",
              "\n",
              "    .colab-df-convert:hover {\n",
              "      background-color: #E2EBFA;\n",
              "      box-shadow: 0px 1px 2px rgba(60, 64, 67, 0.3), 0px 1px 3px 1px rgba(60, 64, 67, 0.15);\n",
              "      fill: #174EA6;\n",
              "    }\n",
              "\n",
              "    [theme=dark] .colab-df-convert {\n",
              "      background-color: #3B4455;\n",
              "      fill: #D2E3FC;\n",
              "    }\n",
              "\n",
              "    [theme=dark] .colab-df-convert:hover {\n",
              "      background-color: #434B5C;\n",
              "      box-shadow: 0px 1px 3px 1px rgba(0, 0, 0, 0.15);\n",
              "      filter: drop-shadow(0px 1px 2px rgba(0, 0, 0, 0.3));\n",
              "      fill: #FFFFFF;\n",
              "    }\n",
              "  </style>\n",
              "\n",
              "      <script>\n",
              "        const buttonEl =\n",
              "          document.querySelector('#df-2b6653b4-d473-498d-a589-d09b3ea3c420 button.colab-df-convert');\n",
              "        buttonEl.style.display =\n",
              "          google.colab.kernel.accessAllowed ? 'block' : 'none';\n",
              "\n",
              "        async function convertToInteractive(key) {\n",
              "          const element = document.querySelector('#df-2b6653b4-d473-498d-a589-d09b3ea3c420');\n",
              "          const dataTable =\n",
              "            await google.colab.kernel.invokeFunction('convertToInteractive',\n",
              "                                                     [key], {});\n",
              "          if (!dataTable) return;\n",
              "\n",
              "          const docLinkHtml = 'Like what you see? Visit the ' +\n",
              "            '<a target=\"_blank\" href=https://colab.research.google.com/notebooks/data_table.ipynb>data table notebook</a>'\n",
              "            + ' to learn more about interactive tables.';\n",
              "          element.innerHTML = '';\n",
              "          dataTable['output_type'] = 'display_data';\n",
              "          await google.colab.output.renderOutput(dataTable, element);\n",
              "          const docLink = document.createElement('div');\n",
              "          docLink.innerHTML = docLinkHtml;\n",
              "          element.appendChild(docLink);\n",
              "        }\n",
              "      </script>\n",
              "    </div>\n",
              "  </div>\n",
              "  "
            ]
          },
          "metadata": {},
          "execution_count": 4
        }
      ]
    },
    {
      "cell_type": "code",
      "source": [
        "words = dfTrain[\"words\"].to_numpy()\n",
        "l95 = np.percentile(words,95)\n",
        "l95"
      ],
      "metadata": {
        "colab": {
          "base_uri": "https://localhost:8080/"
        },
        "id": "a_IzjuSj3FrJ",
        "outputId": "668e135a-6451-4d4b-ee2e-91ee2e317aad"
      },
      "execution_count": null,
      "outputs": [
        {
          "output_type": "execute_result",
          "data": {
            "text/plain": [
              "24.0"
            ]
          },
          "metadata": {},
          "execution_count": 15
        }
      ]
    },
    {
      "cell_type": "code",
      "source": [
        "words = {}\n",
        "for row in dfTrain[\"preprocessed_tweets\"]:\n",
        "  for word in row.split():\n",
        "    if word in words.keys():\n",
        "      words[word] += 1\n",
        "    else:\n",
        "      words[word] = 1\n",
        "\n",
        "words_sorted = dict(sorted(words.items(), key=lambda item: item[1], reverse=True))"
      ],
      "metadata": {
        "id": "W223HJXf37bn"
      },
      "execution_count": null,
      "outputs": []
    },
    {
      "cell_type": "code",
      "source": [
        "len(words_sorted.keys())"
      ],
      "metadata": {
        "colab": {
          "base_uri": "https://localhost:8080/"
        },
        "id": "ODunj7Nu4L9p",
        "outputId": "712e520b-14f8-481e-8899-6b79779c2e4f"
      },
      "execution_count": null,
      "outputs": [
        {
          "output_type": "execute_result",
          "data": {
            "text/plain": [
              "86969"
            ]
          },
          "metadata": {},
          "execution_count": 33
        }
      ]
    },
    {
      "cell_type": "code",
      "source": [
        "np.array(words_sorted.values())"
      ],
      "metadata": {
        "id": "fOhX_sIb6E9t"
      },
      "execution_count": null,
      "outputs": []
    },
    {
      "cell_type": "code",
      "source": [
        "incremental = {}\n",
        "current_increment = 0\n",
        "increments = []\n",
        "for key in words_sorted.keys():\n",
        "  current_increment += words_sorted[key]\n",
        "  increments.append(current_increment)\n",
        "  incremental[current_increment] = key\n",
        "\n",
        "p95 = int(sum(words_sorted.values())/100*95)\n",
        "array = np.asarray(increments)\n",
        "idx = (np.abs(array - p95)).argmin()\n",
        "words_95 = array[idx] #there was an error before!"
      ],
      "metadata": {
        "id": "qyJxLtaN4QXh"
      },
      "execution_count": null,
      "outputs": []
    },
    {
      "cell_type": "code",
      "source": [
        "words_95, incremental[words_95], words_sorted[incremental[words_95]], len({key:val for key, val in words_sorted.items() if val >= words_sorted[incremental[words_95]]})"
      ],
      "metadata": {
        "colab": {
          "base_uri": "https://localhost:8080/"
        },
        "id": "u2Hu0Mq14ech",
        "outputId": "6abad6cf-56dd-4564-b244-074493aba79c"
      },
      "execution_count": null,
      "outputs": [
        {
          "output_type": "execute_result",
          "data": {
            "text/plain": [
              "(1778964, 'prego', 4, 15832)"
            ]
          },
          "metadata": {},
          "execution_count": 95
        }
      ]
    },
    {
      "cell_type": "markdown",
      "source": [
        "Trying to cover the 95% of the dictionary, the model will consider also words that appears only 4 times."
      ],
      "metadata": {
        "id": "caFSIiKu686M"
      }
    },
    {
      "cell_type": "code",
      "source": [
        "threshold = int(np.mean(np.array(list(words_sorted.values()))))"
      ],
      "metadata": {
        "id": "7-yGICpm7vDg"
      },
      "execution_count": null,
      "outputs": []
    },
    {
      "cell_type": "code",
      "source": [
        "threshold"
      ],
      "metadata": {
        "colab": {
          "base_uri": "https://localhost:8080/"
        },
        "id": "c7ZyH3b69ogM",
        "outputId": "2acdce81-4f1c-4f1f-8afe-b52f4f3c1802"
      },
      "execution_count": null,
      "outputs": [
        {
          "output_type": "execute_result",
          "data": {
            "text/plain": [
              "21"
            ]
          },
          "metadata": {},
          "execution_count": 59
        }
      ]
    },
    {
      "cell_type": "code",
      "source": [
        "words_sorted_threshold = {key:val for key, val in words_sorted.items() if val >= threshold}"
      ],
      "metadata": {
        "id": "2DvnGJHv8yMI"
      },
      "execution_count": null,
      "outputs": []
    },
    {
      "cell_type": "code",
      "source": [
        "len(words_sorted_threshold)"
      ],
      "metadata": {
        "colab": {
          "base_uri": "https://localhost:8080/"
        },
        "id": "OSMAfXz99G_F",
        "outputId": "745c8ef3-dfe1-486f-88db-6d7edf90cbee"
      },
      "execution_count": null,
      "outputs": [
        {
          "output_type": "execute_result",
          "data": {
            "text/plain": [
              "4827"
            ]
          },
          "metadata": {},
          "execution_count": 57
        }
      ]
    },
    {
      "cell_type": "markdown",
      "source": [
        "So, with around 5000 words every word that occurs less than 21 times will be removed but in order to cover the 95% of the dictionary I need almost 16000 words.\n",
        "Let's try with a middle ground: 10000 words in the dictionary"
      ],
      "metadata": {
        "id": "kJXvgwES9LVI"
      }
    },
    {
      "cell_type": "code",
      "source": [
        "tokens = 10000"
      ],
      "metadata": {
        "id": "DV88U27X-MJH"
      },
      "execution_count": null,
      "outputs": []
    },
    {
      "cell_type": "code",
      "source": [
        "text_vectorization = tf.keras.layers.TextVectorization(max_tokens=tokens,output_sequence_length=int(l95), pad_to_max_tokens=True)\n",
        "text_vectorization.adapt(dfTrain[\"tweets\"].to_numpy())"
      ],
      "metadata": {
        "id": "ZtBEdeqb3h2f"
      },
      "execution_count": null,
      "outputs": []
    },
    {
      "cell_type": "code",
      "source": [
        "train_dataset = tf.data.Dataset.from_tensor_slices((dfTrain[\"preprocessed_tweets\"], dfTrain[\"sentiment\"].to_numpy())).batch(128).prefetch(tf.data.AUTOTUNE)\n",
        "test_dataset = tf.data.Dataset.from_tensor_slices((dfTest[\"preprocessed_tweets\"], dfTest[\"sentiment\"].to_numpy())).batch(128).prefetch(tf.data.AUTOTUNE)"
      ],
      "metadata": {
        "id": "iIEB8hQ0_462"
      },
      "execution_count": 5,
      "outputs": []
    },
    {
      "cell_type": "code",
      "source": [
        "input = tf.keras.Input(dtype=tf.string, shape=(1,), name=\"input\")\n",
        "x = text_vectorization(input)\n",
        "x = tf.keras.layers.Embedding(input_dim=tokens, output_dim=128)(x)\n",
        "x = tf.keras.layers.Bidirectional(tf.keras.layers.GRU(64))(x)\n",
        "x = tf.keras.layers.Dropout(0.5)(x)\n",
        "x = tf.keras.layers.Dense(64, activation=\"relu\")(x)\n",
        "x = tf.keras.layers.Dropout(0.5)(x)\n",
        "output = tf.keras.layers.Dense(1, activation=\"sigmoid\")(x)\n",
        "\n",
        "model = tf.keras.Model(input, output)"
      ],
      "metadata": {
        "id": "HqqCPwxC_SaA"
      },
      "execution_count": null,
      "outputs": []
    },
    {
      "cell_type": "code",
      "source": [
        "model.compile(loss = tf.keras.losses.BinaryCrossentropy(),\n",
        "              optimizer = tf.keras.optimizers.Adam(learning_rate=0.0001),\n",
        "              metrics=[\"accuracy\"])"
      ],
      "metadata": {
        "id": "dDpTgpH__YNG"
      },
      "execution_count": null,
      "outputs": []
    },
    {
      "cell_type": "code",
      "source": [
        "early_stopping = tf.keras.callbacks.EarlyStopping(patience=5, monitor=\"val_accuracy\")"
      ],
      "metadata": {
        "id": "THIBP6Yr_hyH"
      },
      "execution_count": 13,
      "outputs": []
    },
    {
      "cell_type": "code",
      "source": [
        "history = model.fit(train_dataset, epochs=15, steps_per_epoch=len(train_dataset),\n",
        "          validation_data=test_dataset, validation_steps = len(test_dataset),\n",
        "                    callbacks=[early_stopping])"
      ],
      "metadata": {
        "colab": {
          "base_uri": "https://localhost:8080/"
        },
        "id": "MkQxfMDG_cm-",
        "outputId": "ca87fb30-5acc-4aa6-9a84-2f0dd313c7ef"
      },
      "execution_count": null,
      "outputs": [
        {
          "output_type": "stream",
          "name": "stdout",
          "text": [
            "Epoch 1/15\n",
            "1172/1172 [==============================] - 39s 30ms/step - loss: 0.5662 - accuracy: 0.7008 - val_loss: 0.4886 - val_accuracy: 0.7718\n",
            "Epoch 2/15\n",
            "1172/1172 [==============================] - 14s 12ms/step - loss: 0.4637 - accuracy: 0.7920 - val_loss: 0.4765 - val_accuracy: 0.7726\n",
            "Epoch 3/15\n",
            "1172/1172 [==============================] - 12s 10ms/step - loss: 0.4419 - accuracy: 0.8030 - val_loss: 0.4730 - val_accuracy: 0.7742\n",
            "Epoch 4/15\n",
            "1172/1172 [==============================] - 13s 11ms/step - loss: 0.4295 - accuracy: 0.8070 - val_loss: 0.4691 - val_accuracy: 0.7732\n",
            "Epoch 5/15\n",
            "1172/1172 [==============================] - 12s 11ms/step - loss: 0.4193 - accuracy: 0.8084 - val_loss: 0.4632 - val_accuracy: 0.7802\n",
            "Epoch 6/15\n",
            "1172/1172 [==============================] - 12s 11ms/step - loss: 0.4093 - accuracy: 0.8113 - val_loss: 0.4692 - val_accuracy: 0.7774\n",
            "Epoch 7/15\n",
            "1172/1172 [==============================] - 12s 11ms/step - loss: 0.3989 - accuracy: 0.8131 - val_loss: 0.4717 - val_accuracy: 0.7790\n",
            "Epoch 8/15\n",
            "1172/1172 [==============================] - 12s 10ms/step - loss: 0.3916 - accuracy: 0.8154 - val_loss: 0.4792 - val_accuracy: 0.7779\n",
            "Epoch 9/15\n",
            "1172/1172 [==============================] - 12s 11ms/step - loss: 0.3853 - accuracy: 0.8174 - val_loss: 0.4852 - val_accuracy: 0.7781\n",
            "Epoch 10/15\n",
            "1172/1172 [==============================] - 13s 11ms/step - loss: 0.3779 - accuracy: 0.8190 - val_loss: 0.4923 - val_accuracy: 0.7764\n"
          ]
        }
      ]
    },
    {
      "cell_type": "code",
      "source": [
        "plt.plot(history.history[\"val_accuracy\"], label=\"val_accuracy\")\n",
        "plt.plot(history.history[\"accuracy\"], label=\"accuracy\")\n",
        "plt.legend()"
      ],
      "metadata": {
        "colab": {
          "base_uri": "https://localhost:8080/",
          "height": 448
        },
        "id": "GWaxBR83CN9a",
        "outputId": "bdbd03a6-80ff-4201-aac2-5d83e4047387"
      },
      "execution_count": null,
      "outputs": [
        {
          "output_type": "execute_result",
          "data": {
            "text/plain": [
              "<matplotlib.legend.Legend at 0x7f9d45935a80>"
            ]
          },
          "metadata": {},
          "execution_count": 84
        },
        {
          "output_type": "display_data",
          "data": {
            "text/plain": [
              "<Figure size 640x480 with 1 Axes>"
            ],
            "image/png": "[encoded data removed]"
          },
          "metadata": {}
        }
      ]
    },
    {
      "cell_type": "code",
      "source": [
        "model_preds = model.predict(test_dataset)\n",
        "model_y_preds = tf.math.round(tf.squeeze(model_preds))\n",
        "evaluate_predictions(dfTest[\"sentiment\"].to_numpy(),model_y_preds)"
      ],
      "metadata": {
        "colab": {
          "base_uri": "https://localhost:8080/"
        },
        "id": "FbStFaPtCdF4",
        "outputId": "00b21a02-3b46-4693-e987-493bbacd8260"
      },
      "execution_count": null,
      "outputs": [
        {
          "output_type": "stream",
          "name": "stdout",
          "text": [
            "485/485 [==============================] - 2s 4ms/step\n"
          ]
        },
        {
          "output_type": "execute_result",
          "data": {
            "text/plain": [
              "{'accuracy': 0.7763637536694732,\n",
              " 'precision': 0.8187964338781575,\n",
              " 'recall': 0.710367720519514,\n",
              " 'f1': 0.7753916175703419}"
            ]
          },
          "metadata": {},
          "execution_count": 92
        }
      ]
    },
    {
      "cell_type": "markdown",
      "source": [
        "Ok, there is a little improvement from the naive bayes, but now let's see how transfer learning performs"
      ],
      "metadata": {
        "id": "WNcVcTqQHFjV"
      }
    },
    {
      "cell_type": "markdown",
      "source": [
        "## Feature Extraction with Universal Sentence Extractor\n"
      ],
      "metadata": {
        "id": "Tdai9eZeOqmz"
      }
    },
    {
      "cell_type": "code",
      "source": [
        "import tensorflow_hub as hub\n",
        "universal_sentence_extractor = hub.KerasLayer(\"https://tfhub.dev/google/universal-sentence-encoder/4\",\n",
        "                                              input_shape=[],\n",
        "                                              dtype=tf.string,\n",
        "                                              trainable=False,\n",
        "                                              name=\"USE\")\n"
      ],
      "metadata": {
        "id": "AEH-YoBeJl-t"
      },
      "execution_count": 6,
      "outputs": []
    },
    {
      "cell_type": "code",
      "source": [
        "model_use = tf.keras.Sequential([\n",
        "    universal_sentence_extractor,\n",
        "    tf.keras.layers.Dense(64, activation=\"relu\"),\n",
        "    tf.keras.layers.Dense(1,activation=\"sigmoid\")], name=\"model_use_fe\")"
      ],
      "metadata": {
        "id": "SyayBAUkMbX4"
      },
      "execution_count": null,
      "outputs": []
    },
    {
      "cell_type": "code",
      "source": [
        "model_use.compile(loss=tf.keras.losses.BinaryCrossentropy(),\n",
        "                optimizer = tf.keras.optimizers.Adam(),\n",
        "                metrics=[\"accuracy\"])\n",
        "history_use = model_use.fit(train_dataset, epochs=15, steps_per_epoch=len(train_dataset),\n",
        "                            validation_data=test_dataset, validation_steps=len(test_dataset),\n",
        "                            callbacks=[early_stopping])"
      ],
      "metadata": {
        "colab": {
          "base_uri": "https://localhost:8080/"
        },
        "id": "n6Em-3biMj8u",
        "outputId": "470363a8-d692-45b0-c76c-1b4d498653b2"
      },
      "execution_count": null,
      "outputs": [
        {
          "output_type": "stream",
          "name": "stdout",
          "text": [
            "Epoch 1/15\n",
            "1172/1172 [==============================] - 34s 25ms/step - loss: 0.4715 - accuracy: 0.7762 - val_loss: 0.4623 - val_accuracy: 0.7792\n",
            "Epoch 2/15\n",
            "1172/1172 [==============================] - 31s 26ms/step - loss: 0.4504 - accuracy: 0.7864 - val_loss: 0.4553 - val_accuracy: 0.7835\n",
            "Epoch 3/15\n",
            "1172/1172 [==============================] - 27s 23ms/step - loss: 0.4432 - accuracy: 0.7908 - val_loss: 0.4507 - val_accuracy: 0.7866\n",
            "Epoch 4/15\n",
            "1172/1172 [==============================] - 30s 26ms/step - loss: 0.4365 - accuracy: 0.7949 - val_loss: 0.4469 - val_accuracy: 0.7893\n",
            "Epoch 5/15\n",
            "1172/1172 [==============================] - 26s 23ms/step - loss: 0.4304 - accuracy: 0.7987 - val_loss: 0.4445 - val_accuracy: 0.7907\n",
            "Epoch 6/15\n",
            "1172/1172 [==============================] - 27s 23ms/step - loss: 0.4253 - accuracy: 0.8014 - val_loss: 0.4431 - val_accuracy: 0.7917\n",
            "Epoch 7/15\n",
            "1172/1172 [==============================] - 27s 23ms/step - loss: 0.4209 - accuracy: 0.8044 - val_loss: 0.4423 - val_accuracy: 0.7926\n",
            "Epoch 8/15\n",
            "1172/1172 [==============================] - 26s 22ms/step - loss: 0.4171 - accuracy: 0.8066 - val_loss: 0.4421 - val_accuracy: 0.7924\n",
            "Epoch 9/15\n",
            "1172/1172 [==============================] - 26s 22ms/step - loss: 0.4136 - accuracy: 0.8086 - val_loss: 0.4422 - val_accuracy: 0.7926\n",
            "Epoch 10/15\n",
            "1172/1172 [==============================] - 29s 25ms/step - loss: 0.4104 - accuracy: 0.8102 - val_loss: 0.4425 - val_accuracy: 0.7923\n",
            "Epoch 11/15\n",
            "1172/1172 [==============================] - 27s 23ms/step - loss: 0.4073 - accuracy: 0.8125 - val_loss: 0.4431 - val_accuracy: 0.7920\n",
            "Epoch 12/15\n",
            "1172/1172 [==============================] - 29s 25ms/step - loss: 0.4044 - accuracy: 0.8143 - val_loss: 0.4439 - val_accuracy: 0.7912\n"
          ]
        }
      ]
    },
    {
      "cell_type": "code",
      "source": [
        "plt.plot(history_use.history[\"val_accuracy\"], label=\"val_accuracy\")\n",
        "plt.plot(history_use.history[\"accuracy\"], label=\"accuracy\")\n",
        "plt.legend()"
      ],
      "metadata": {
        "colab": {
          "base_uri": "https://localhost:8080/",
          "height": 448
        },
        "id": "kbyCLCn1M-nB",
        "outputId": "533c5cc8-f5df-42f4-85d4-9913eb5bc8ec"
      },
      "execution_count": null,
      "outputs": [
        {
          "output_type": "execute_result",
          "data": {
            "text/plain": [
              "<matplotlib.legend.Legend at 0x7f9c4c515ff0>"
            ]
          },
          "metadata": {},
          "execution_count": 102
        },
        {
          "output_type": "display_data",
          "data": {
            "text/plain": [
              "<Figure size 640x480 with 1 Axes>"
            ],
            "image/png": "[encoded data removed]"
          },
          "metadata": {}
        }
      ]
    },
    {
      "cell_type": "code",
      "source": [
        "model_use_preds = model_use.predict(test_dataset)\n",
        "model_use_y_preds = tf.math.round(tf.squeeze(model_use_preds))\n",
        "evaluate_predictions(dfTest[\"sentiment\"].to_numpy(),model_use_y_preds)"
      ],
      "metadata": {
        "colab": {
          "base_uri": "https://localhost:8080/"
        },
        "id": "-80QGmCZO0vF",
        "outputId": "9039c360-8c90-4b40-de22-1f7bd751ddda"
      },
      "execution_count": null,
      "outputs": [
        {
          "output_type": "stream",
          "name": "stdout",
          "text": [
            "485/485 [==============================] - 8s 16ms/step\n"
          ]
        },
        {
          "output_type": "execute_result",
          "data": {
            "text/plain": [
              "{'accuracy': 0.7912352011355205,\n",
              " 'precision': 0.8030292875812614,\n",
              " 'recall': 0.7723097747268685,\n",
              " 'f1': 0.7911625202719533}"
            ]
          },
          "metadata": {},
          "execution_count": 108
        }
      ]
    },
    {
      "cell_type": "markdown",
      "source": [
        "## Train Universal Sentence Extractor on Dataset"
      ],
      "metadata": {
        "id": "3a1b-pHmU7la"
      }
    },
    {
      "cell_type": "code",
      "source": [
        "universal_sentence_extractor.trainable= True;"
      ],
      "metadata": {
        "id": "blFs6BlUFR0s"
      },
      "execution_count": 10,
      "outputs": []
    },
    {
      "cell_type": "code",
      "source": [
        "model_use_tr = tf.keras.Sequential([\n",
        "    universal_sentence_extractor,\n",
        "    tf.keras.layers.Dense(64, activation=\"relu\"),\n",
        "    tf.keras.layers.Dropout(0.5),\n",
        "    tf.keras.layers.Dense(1,activation=\"sigmoid\"),\n",
        "    ], name=\"model_use_gru\")\n",
        "model_use_tr.compile(loss=tf.keras.losses.BinaryCrossentropy(),\n",
        "                optimizer = tf.keras.optimizers.Adam(),\n",
        "                metrics=[\"accuracy\"])\n",
        "model_use_tr.summary()"
      ],
      "metadata": {
        "colab": {
          "base_uri": "https://localhost:8080/"
        },
        "id": "K9h1QgOMDAo-",
        "outputId": "7fc72f74-0cd8-4ce3-b89f-0aa9c72245da"
      },
      "execution_count": 19,
      "outputs": [
        {
          "output_type": "stream",
          "name": "stdout",
          "text": [
            "Model: \"model_use_gru\"\n",
            "_________________________________________________________________\n",
            " Layer (type)                Output Shape              Param #   \n",
            "=================================================================\n",
            " USE (KerasLayer)            (None, 512)               256797824 \n",
            "                                                                 \n",
            " dense_5 (Dense)             (None, 64)                32832     \n",
            "                                                                 \n",
            " dropout (Dropout)           (None, 64)                0         \n",
            "                                                                 \n",
            " dense_6 (Dense)             (None, 1)                 65        \n",
            "                                                                 \n",
            "=================================================================\n",
            "Total params: 256,830,721\n",
            "Trainable params: 256,830,721\n",
            "Non-trainable params: 0\n",
            "_________________________________________________________________\n"
          ]
        }
      ]
    },
    {
      "cell_type": "code",
      "source": [
        "history_use_tr = model_use_tr.fit(train_dataset, epochs=15, steps_per_epoch=len(train_dataset),\n",
        "                            validation_data=test_dataset, validation_steps=len(test_dataset),\n",
        "                            callbacks=[early_stopping])"
      ],
      "metadata": {
        "colab": {
          "base_uri": "https://localhost:8080/"
        },
        "id": "EuzEOXcoFdCI",
        "outputId": "c856ddab-4e9c-4274-9ae7-b8f5096e640b"
      },
      "execution_count": 20,
      "outputs": [
        {
          "output_type": "stream",
          "name": "stdout",
          "text": [
            "Epoch 1/15\n",
            "1172/1172 [==============================] - 378s 296ms/step - loss: 0.0210 - accuracy: 0.9944 - val_loss: 1.3769 - val_accuracy: 0.7670\n",
            "Epoch 2/15\n",
            "1172/1172 [==============================] - 122s 104ms/step - loss: 0.0114 - accuracy: 0.9955 - val_loss: 1.3770 - val_accuracy: 0.7669\n",
            "Epoch 3/15\n",
            "1172/1172 [==============================] - 120s 103ms/step - loss: 0.0082 - accuracy: 0.9964 - val_loss: 1.6663 - val_accuracy: 0.7690\n",
            "Epoch 4/15\n",
            "1172/1172 [==============================] - 121s 103ms/step - loss: 0.0072 - accuracy: 0.9968 - val_loss: 1.9427 - val_accuracy: 0.7678\n",
            "Epoch 5/15\n",
            "1172/1172 [==============================] - 121s 103ms/step - loss: 0.0066 - accuracy: 0.9969 - val_loss: 1.6537 - val_accuracy: 0.7708\n",
            "Epoch 6/15\n",
            "1172/1172 [==============================] - 121s 104ms/step - loss: 0.0062 - accuracy: 0.9970 - val_loss: 1.8398 - val_accuracy: 0.7696\n",
            "Epoch 7/15\n",
            "1172/1172 [==============================] - 122s 104ms/step - loss: 0.0063 - accuracy: 0.9970 - val_loss: 1.7984 - val_accuracy: 0.7721\n",
            "Epoch 8/15\n",
            "1172/1172 [==============================] - 121s 103ms/step - loss: 0.0058 - accuracy: 0.9971 - val_loss: 2.0810 - val_accuracy: 0.7683\n",
            "Epoch 9/15\n",
            "1172/1172 [==============================] - 122s 104ms/step - loss: 0.0060 - accuracy: 0.9972 - val_loss: 1.7498 - val_accuracy: 0.7710\n",
            "Epoch 10/15\n",
            "1172/1172 [==============================] - 121s 104ms/step - loss: 0.0057 - accuracy: 0.9973 - val_loss: 1.8804 - val_accuracy: 0.7668\n",
            "Epoch 11/15\n",
            "1172/1172 [==============================] - 121s 103ms/step - loss: 0.0057 - accuracy: 0.9973 - val_loss: 1.9807 - val_accuracy: 0.7675\n",
            "Epoch 12/15\n",
            "1172/1172 [==============================] - 124s 106ms/step - loss: 0.0054 - accuracy: 0.9973 - val_loss: 2.1311 - val_accuracy: 0.7644\n"
          ]
        }
      ]
    },
    {
      "cell_type": "code",
      "source": [
        "plt.plot(history_use_tr.history[\"val_accuracy\"], label=\"val_accuracy\")\n",
        "plt.plot(history_use_tr.history[\"accuracy\"], label=\"accuracy\")\n",
        "plt.legend()"
      ],
      "metadata": {
        "colab": {
          "base_uri": "https://localhost:8080/",
          "height": 447
        },
        "id": "C3HpDPj-DS8N",
        "outputId": "9d9ebbd1-9b8f-4b8d-94d9-79a758e3fa65"
      },
      "execution_count": 21,
      "outputs": [
        {
          "output_type": "execute_result",
          "data": {
            "text/plain": [
              "<matplotlib.legend.Legend at 0x7f7f7adf16f0>"
            ]
          },
          "metadata": {},
          "execution_count": 21
        },
        {
          "output_type": "display_data",
          "data": {
            "text/plain": [
              "<Figure size 640x480 with 1 Axes>"
            ],
            "image/png": "[encoded data removed]"
          },
          "metadata": {}
        }
      ]
    },
    {
      "cell_type": "code",
      "source": [
        "model_use_tr_preds = model_use_tr.predict(test_dataset)\n",
        "model_use_tr_y_preds = tf.math.round(tf.squeeze(model_use_tr_preds))\n",
        "evaluate_predictions(dfTest[\"sentiment\"].to_numpy(),model_use_tr_y_preds)"
      ],
      "metadata": {
        "colab": {
          "base_uri": "https://localhost:8080/"
        },
        "id": "K8LaYtC4DU3v",
        "outputId": "f63fbb40-c6e6-4c54-c754-7818f8c575bd"
      },
      "execution_count": 23,
      "outputs": [
        {
          "output_type": "stream",
          "name": "stdout",
          "text": [
            "485/485 [==============================] - 9s 19ms/step\n"
          ]
        },
        {
          "output_type": "execute_result",
          "data": {
            "text/plain": [
              "{'accuracy': 0.7643633665602116,\n",
              " 'precision': 0.7876865933141776,\n",
              " 'recall': 0.7244513197331529,\n",
              " 'f1': 0.7639915622870085}"
            ]
          },
          "metadata": {},
          "execution_count": 23
        }
      ]
    }
  ]
}
