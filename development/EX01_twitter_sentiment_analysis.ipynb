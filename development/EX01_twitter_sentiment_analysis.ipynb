{
  "nbformat": 4,
  "nbformat_minor": 0,
  "metadata": {
    "colab": {
      "provenance": [],
      "gpuType": "T4",
      "toc_visible": true
    },
    "kernelspec": {
      "name": "python3",
      "display_name": "Python 3"
    },
    "language_info": {
      "name": "python"
    },
    "accelerator": "GPU"
  },
  "cells": [
    {
      "cell_type": "markdown",
      "source": [
        "#Project Diary\n",
        "This document act as a project diary for **Happy Tweeting**\n",
        "\n"
      ],
      "metadata": {
        "id": "35unID6RwGNn"
      }
    },
    {
      "cell_type": "markdown",
      "source": [
        "###Citation Information\n",
        "@InProceedings{paws2019naacl,<br>\n",
        "title = {{TSATC: Twitter Sentiment Analysis Training Corpus}},<br>\n",
        "author = {Ibrahim Naji},<br>\n",
        "booktitle = {thinknook},<br>\n",
        "year = {2012}<br>\n",
        "}"
      ],
      "metadata": {
        "id": "355S3r4gCbC2"
      }
    },
    {
      "cell_type": "markdown",
      "source": [
        "1 stands for positive,<br>\n",
        "0 for negative"
      ],
      "metadata": {
        "id": "h9wjpaqHEh2M"
      }
    },
    {
      "cell_type": "markdown",
      "source": [
        "Dataset retrieved from:<br>\n",
        "https://huggingface.co/datasets/carblacac/twitter-sentiment-analysis/tree/main"
      ],
      "metadata": {
        "id": "ACDJcsoZC8D9"
      }
    },
    {
      "cell_type": "code",
      "execution_count": null,
      "metadata": {
        "id": "Ek_l8TCJIjwg"
      },
      "outputs": [],
      "source": [
        "_URL = \"https://raw.githubusercontent.com/cblancac/SentimentAnalysisBert/main/data/\"\n",
        "_URLS = {\n",
        "    \"train\": _URL + \"train_150k.txt\",\n",
        "    \"test\": _URL + \"test_62k.txt\",\n",
        "}\n"
      ]
    },
    {
      "cell_type": "code",
      "source": [
        "!wget https://raw.githubusercontent.com/cblancac/SentimentAnalysisBert/main/data/train_150k.txt\n",
        "!wget https://raw.githubusercontent.com/cblancac/SentimentAnalysisBert/main/data/test_62k.txt"
      ],
      "metadata": {
        "colab": {
          "base_uri": "https://localhost:8080/"
        },
        "id": "ecvPith3lnOv",
        "outputId": "ecccc83f-f6ef-4a01-dadb-ef3582ab4450"
      },
      "execution_count": null,
      "outputs": [
        {
          "output_type": "stream",
          "name": "stdout",
          "text": [
            "--2023-06-26 12:56:08--  https://raw.githubusercontent.com/cblancac/SentimentAnalysisBert/main/data/train_150k.txt\n",
            "Resolving raw.githubusercontent.com (raw.githubusercontent.com)... 185.199.108.133, 185.199.109.133, 185.199.110.133, ...\n",
            "Connecting to raw.githubusercontent.com (raw.githubusercontent.com)|185.199.108.133|:443... connected.\n",
            "HTTP request sent, awaiting response... 200 OK\n",
            "Length: 11697788 (11M) [text/plain]\n",
            "Saving to: ‘train_150k.txt’\n",
            "\n",
            "train_150k.txt      100%[===================>]  11.16M  --.-KB/s    in 0.09s   \n",
            "\n",
            "2023-06-26 12:56:09 (118 MB/s) - ‘train_150k.txt’ saved [11697788/11697788]\n",
            "\n",
            "--2023-06-26 12:56:09--  https://raw.githubusercontent.com/cblancac/SentimentAnalysisBert/main/data/test_62k.txt\n",
            "Resolving raw.githubusercontent.com (raw.githubusercontent.com)... 185.199.108.133, 185.199.109.133, 185.199.110.133, ...\n",
            "Connecting to raw.githubusercontent.com (raw.githubusercontent.com)|185.199.108.133|:443... connected.\n",
            "HTTP request sent, awaiting response... 200 OK\n",
            "Length: 4839762 (4.6M) [text/plain]\n",
            "Saving to: ‘test_62k.txt’\n",
            "\n",
            "test_62k.txt        100%[===================>]   4.62M  --.-KB/s    in 0.09s   \n",
            "\n",
            "2023-06-26 12:56:10 (50.3 MB/s) - ‘test_62k.txt’ saved [4839762/4839762]\n",
            "\n"
          ]
        }
      ]
    },
    {
      "cell_type": "code",
      "source": [
        "import pandas as pd\n",
        "import tensorflow as tf\n",
        "import numpy as np\n",
        "import matplotlib.pyplot as plt\n",
        "import random\n",
        "dfTrain = pd.read_csv(\"./train_150k.txt\",names=[\"sentiment\",\"tweets\"], sep=\"\\t\")\n",
        "dfTest = pd.read_csv(\"./test_62k.txt\",names=[\"sentiment\",\"tweets\"], sep=\"\\t\")\n",
        "dfTrain.head()"
      ],
      "metadata": {
        "colab": {
          "base_uri": "https://localhost:8080/",
          "height": 206
        },
        "id": "I6aFuoCHmKIR",
        "outputId": "b3cc9e30-8a60-4411-e4ec-2d4729cbf8bb"
      },
      "execution_count": null,
      "outputs": [
        {
          "output_type": "execute_result",
          "data": {
            "text/plain": [
              "   sentiment                                             tweets\n",
              "0          0  Starting  back at work today   Looks like it'l...\n",
              "1          1  Sugar levels dropping... munchies setting in. ...\n",
              "2          1     @karineb22 yeah!!! have a great summer break! \n",
              "3          1  hannah montana was very good.  now going to re...\n",
              "4          1  @Mayra326 aww, have fun!  I just had my 3D las..."
            ],
            "text/html": [
              "\n",
              "  <div id=\"df-e6356dd1-e8fb-4438-a345-6fe0ae64720f\">\n",
              "    <div class=\"colab-df-container\">\n",
              "      <div>\n",
              "<style scoped>\n",
              "    .dataframe tbody tr th:only-of-type {\n",
              "        vertical-align: middle;\n",
              "    }\n",
              "\n",
              "    .dataframe tbody tr th {\n",
              "        vertical-align: top;\n",
              "    }\n",
              "\n",
              "    .dataframe thead th {\n",
              "        text-align: right;\n",
              "    }\n",
              "</style>\n",
              "<table border=\"1\" class=\"dataframe\">\n",
              "  <thead>\n",
              "    <tr style=\"text-align: right;\">\n",
              "      <th></th>\n",
              "      <th>sentiment</th>\n",
              "      <th>tweets</th>\n",
              "    </tr>\n",
              "  </thead>\n",
              "  <tbody>\n",
              "    <tr>\n",
              "      <th>0</th>\n",
              "      <td>0</td>\n",
              "      <td>Starting  back at work today   Looks like it'l...</td>\n",
              "    </tr>\n",
              "    <tr>\n",
              "      <th>1</th>\n",
              "      <td>1</td>\n",
              "      <td>Sugar levels dropping... munchies setting in. ...</td>\n",
              "    </tr>\n",
              "    <tr>\n",
              "      <th>2</th>\n",
              "      <td>1</td>\n",
              "      <td>@karineb22 yeah!!! have a great summer break!</td>\n",
              "    </tr>\n",
              "    <tr>\n",
              "      <th>3</th>\n",
              "      <td>1</td>\n",
              "      <td>hannah montana was very good.  now going to re...</td>\n",
              "    </tr>\n",
              "    <tr>\n",
              "      <th>4</th>\n",
              "      <td>1</td>\n",
              "      <td>@Mayra326 aww, have fun!  I just had my 3D las...</td>\n",
              "    </tr>\n",
              "  </tbody>\n",
              "</table>\n",
              "</div>\n",
              "      <button class=\"colab-df-convert\" onclick=\"convertToInteractive('df-e6356dd1-e8fb-4438-a345-6fe0ae64720f')\"\n",
              "              title=\"Convert this dataframe to an interactive table.\"\n",
              "              style=\"display:none;\">\n",
              "        \n",
              "  <svg xmlns=\"http://www.w3.org/2000/svg\" height=\"24px\"viewBox=\"0 0 24 24\"\n",
              "       width=\"24px\">\n",
              "    <path d=\"M0 0h24v24H0V0z\" fill=\"none\"/>\n",
              "    <path d=\"M18.56 5.44l.94 2.06.94-2.06 2.06-.94-2.06-.94-.94-2.06-.94 2.06-2.06.94zm-11 1L8.5 8.5l.94-2.06 2.06-.94-2.06-.94L8.5 2.5l-.94 2.06-2.06.94zm10 10l.94 2.06.94-2.06 2.06-.94-2.06-.94-.94-2.06-.94 2.06-2.06.94z\"/><path d=\"M17.41 7.96l-1.37-1.37c-.4-.4-.92-.59-1.43-.59-.52 0-1.04.2-1.43.59L10.3 9.45l-7.72 7.72c-.78.78-.78 2.05 0 2.83L4 21.41c.39.39.9.59 1.41.59.51 0 1.02-.2 1.41-.59l7.78-7.78 2.81-2.81c.8-.78.8-2.07 0-2.86zM5.41 20L4 18.59l7.72-7.72 1.47 1.35L5.41 20z\"/>\n",
              "  </svg>\n",
              "      </button>\n",
              "      \n",
              "  <style>\n",
              "    .colab-df-container {\n",
              "      display:flex;\n",
              "      flex-wrap:wrap;\n",
              "      gap: 12px;\n",
              "    }\n",
              "\n",
              "    .colab-df-convert {\n",
              "      background-color: #E8F0FE;\n",
              "      border: none;\n",
              "      border-radius: 50%;\n",
              "      cursor: pointer;\n",
              "      display: none;\n",
              "      fill: #1967D2;\n",
              "      height: 32px;\n",
              "      padding: 0 0 0 0;\n",
              "      width: 32px;\n",
              "    }\n",
              "\n",
              "    .colab-df-convert:hover {\n",
              "      background-color: #E2EBFA;\n",
              "      box-shadow: 0px 1px 2px rgba(60, 64, 67, 0.3), 0px 1px 3px 1px rgba(60, 64, 67, 0.15);\n",
              "      fill: #174EA6;\n",
              "    }\n",
              "\n",
              "    [theme=dark] .colab-df-convert {\n",
              "      background-color: #3B4455;\n",
              "      fill: #D2E3FC;\n",
              "    }\n",
              "\n",
              "    [theme=dark] .colab-df-convert:hover {\n",
              "      background-color: #434B5C;\n",
              "      box-shadow: 0px 1px 3px 1px rgba(0, 0, 0, 0.15);\n",
              "      filter: drop-shadow(0px 1px 2px rgba(0, 0, 0, 0.3));\n",
              "      fill: #FFFFFF;\n",
              "    }\n",
              "  </style>\n",
              "\n",
              "      <script>\n",
              "        const buttonEl =\n",
              "          document.querySelector('#df-e6356dd1-e8fb-4438-a345-6fe0ae64720f button.colab-df-convert');\n",
              "        buttonEl.style.display =\n",
              "          google.colab.kernel.accessAllowed ? 'block' : 'none';\n",
              "\n",
              "        async function convertToInteractive(key) {\n",
              "          const element = document.querySelector('#df-e6356dd1-e8fb-4438-a345-6fe0ae64720f');\n",
              "          const dataTable =\n",
              "            await google.colab.kernel.invokeFunction('convertToInteractive',\n",
              "                                                     [key], {});\n",
              "          if (!dataTable) return;\n",
              "\n",
              "          const docLinkHtml = 'Like what you see? Visit the ' +\n",
              "            '<a target=\"_blank\" href=https://colab.research.google.com/notebooks/data_table.ipynb>data table notebook</a>'\n",
              "            + ' to learn more about interactive tables.';\n",
              "          element.innerHTML = '';\n",
              "          dataTable['output_type'] = 'display_data';\n",
              "          await google.colab.output.renderOutput(dataTable, element);\n",
              "          const docLink = document.createElement('div');\n",
              "          docLink.innerHTML = docLinkHtml;\n",
              "          element.appendChild(docLink);\n",
              "        }\n",
              "      </script>\n",
              "    </div>\n",
              "  </div>\n",
              "  "
            ]
          },
          "metadata": {},
          "execution_count": 3
        }
      ]
    },
    {
      "cell_type": "code",
      "source": [
        "words = {}\n",
        "lens = []\n",
        "for row in dfTrain[\"tweets\"]:\n",
        "  for word in row.split():\n",
        "    lens.append(len(row.split()))\n",
        "    if word in words.keys():\n",
        "      words[word] += 1\n",
        "    else:\n",
        "      words[word] = 1\n",
        "\n",
        "words_sorted = dict(sorted(words.items(), key=lambda item: item[1], reverse=True))"
      ],
      "metadata": {
        "id": "mdWYiMyunx_3"
      },
      "execution_count": null,
      "outputs": []
    },
    {
      "cell_type": "code",
      "source": [
        "lens.sort(reverse=True)"
      ],
      "metadata": {
        "id": "1RGZaQluuDH6"
      },
      "execution_count": null,
      "outputs": []
    },
    {
      "cell_type": "code",
      "source": [
        "plt.hist(lens)"
      ],
      "metadata": {
        "colab": {
          "base_uri": "https://localhost:8080/",
          "height": 537
        },
        "id": "qiWCgtFMuJK6",
        "outputId": "9b40fbce-0867-41c9-add3-aa5e9fe23132"
      },
      "execution_count": null,
      "outputs": [
        {
          "output_type": "execute_result",
          "data": {
            "text/plain": [
              "(array([4.914000e+05, 1.012431e+06, 4.900260e+05, 6.030000e+02,\n",
              "        4.600000e+01, 5.700000e+01, 0.000000e+00, 7.900000e+01,\n",
              "        0.000000e+00, 1.110000e+02]),\n",
              " array([  1.,  12.,  23.,  34.,  45.,  56.,  67.,  78.,  89., 100., 111.]),\n",
              " <BarContainer object of 10 artists>)"
            ]
          },
          "metadata": {},
          "execution_count": 6
        },
        {
          "output_type": "display_data",
          "data": {
            "text/plain": [
              "<Figure size 640x480 with 1 Axes>"
            ],
            "image/png": "[encoded data removed]"
          },
          "metadata": {}
        }
      ]
    },
    {
      "cell_type": "code",
      "source": [
        "l95 = np.percentile(lens,95)"
      ],
      "metadata": {
        "id": "vAn8cXwyuZ_u"
      },
      "execution_count": null,
      "outputs": []
    },
    {
      "cell_type": "code",
      "source": [
        "len(words_sorted.keys()), sum(words_sorted.values())"
      ],
      "metadata": {
        "colab": {
          "base_uri": "https://localhost:8080/"
        },
        "id": "c-yStonKpI3j",
        "outputId": "dd94703b-d4ec-472d-b43d-105459ee6a32"
      },
      "execution_count": null,
      "outputs": [
        {
          "output_type": "execute_result",
          "data": {
            "text/plain": [
              "(236155, 1994753)"
            ]
          },
          "metadata": {},
          "execution_count": 8
        }
      ]
    },
    {
      "cell_type": "code",
      "source": [
        "incremental = {}\n",
        "current_increment = 0\n",
        "increments = []\n",
        "for key in words_sorted.keys():\n",
        "  current_increment += words_sorted[key]\n",
        "  increments.append(current_increment)\n",
        "  incremental[current_increment] = key\n",
        "\n",
        "p95 = int(sum(words_sorted.values())/100*95)\n",
        "p95"
      ],
      "metadata": {
        "colab": {
          "base_uri": "https://localhost:8080/"
        },
        "id": "-B_ikNzdpNBi",
        "outputId": "3e93113e-8e82-4269-da73-98d787133a88"
      },
      "execution_count": null,
      "outputs": [
        {
          "output_type": "execute_result",
          "data": {
            "text/plain": [
              "1895015"
            ]
          },
          "metadata": {},
          "execution_count": 9
        }
      ]
    },
    {
      "cell_type": "code",
      "source": [
        "array = np.asarray(increments)\n",
        "idx = (np.abs(array - p95)).argmin()\n",
        "tokens = array[idx]"
      ],
      "metadata": {
        "id": "mMDHuXmKrTmn"
      },
      "execution_count": null,
      "outputs": []
    },
    {
      "cell_type": "code",
      "source": [
        "incremental[tokens]"
      ],
      "metadata": {
        "colab": {
          "base_uri": "https://localhost:8080/",
          "height": 36
        },
        "id": "e1SszfHGrpQv",
        "outputId": "cc5b5ecb-9bcf-4369-8cf4-087e8552035f"
      },
      "execution_count": null,
      "outputs": [
        {
          "output_type": "execute_result",
          "data": {
            "text/plain": [
              "\"ea'..\""
            ],
            "application/vnd.google.colaboratory.intrinsic+json": {
              "type": "string"
            }
          },
          "metadata": {},
          "execution_count": 11
        }
      ]
    },
    {
      "cell_type": "code",
      "source": [
        "from sklearn.feature_extraction.text import TfidfVectorizer\n",
        "from sklearn.naive_bayes import MultinomialNB\n",
        "from sklearn.pipeline import Pipeline\n",
        "\n",
        "model_0 = Pipeline([\n",
        "      (\"tfidf\", TfidfVectorizer()),\n",
        "      (\"clf\",MultinomialNB())\n",
        "])\n",
        "\n",
        "model_0.fit(dfTrain[\"tweets\"],dfTrain[\"sentiment\"])\n"
      ],
      "metadata": {
        "colab": {
          "base_uri": "https://localhost:8080/",
          "height": 127
        },
        "id": "FO2T3iLna2nP",
        "outputId": "138ba7ee-8c24-4202-840e-8576a304f787"
      },
      "execution_count": null,
      "outputs": [
        {
          "output_type": "execute_result",
          "data": {
            "text/plain": [
              "Pipeline(steps=[('tfidf', TfidfVectorizer()), ('clf', MultinomialNB())])"
            ],
            "text/html": [
              "<style>#sk-container-id-1 {color: black;background-color: white;}#sk-container-id-1 pre{padding: 0;}#sk-container-id-1 div.sk-toggleable {background-color: white;}#sk-container-id-1 label.sk-toggleable__label {cursor: pointer;display: block;width: 100%;margin-bottom: 0;padding: 0.3em;box-sizing: border-box;text-align: center;}#sk-container-id-1 label.sk-toggleable__label-arrow:before {content: \"▸\";float: left;margin-right: 0.25em;color: #696969;}#sk-container-id-1 label.sk-toggleable__label-arrow:hover:before {color: black;}#sk-container-id-1 div.sk-estimator:hover label.sk-toggleable__label-arrow:before {color: black;}#sk-container-id-1 div.sk-toggleable__content {max-height: 0;max-width: 0;overflow: hidden;text-align: left;background-color: #f0f8ff;}#sk-container-id-1 div.sk-toggleable__content pre {margin: 0.2em;color: black;border-radius: 0.25em;background-color: #f0f8ff;}#sk-container-id-1 input.sk-toggleable__control:checked~div.sk-toggleable__content {max-height: 200px;max-width: 100%;overflow: auto;}#sk-container-id-1 input.sk-toggleable__control:checked~label.sk-toggleable__label-arrow:before {content: \"▾\";}#sk-container-id-1 div.sk-estimator input.sk-toggleable__control:checked~label.sk-toggleable__label {background-color: #d4ebff;}#sk-container-id-1 div.sk-label input.sk-toggleable__control:checked~label.sk-toggleable__label {background-color: #d4ebff;}#sk-container-id-1 input.sk-hidden--visually {border: 0;clip: rect(1px 1px 1px 1px);clip: rect(1px, 1px, 1px, 1px);height: 1px;margin: -1px;overflow: hidden;padding: 0;position: absolute;width: 1px;}#sk-container-id-1 div.sk-estimator {font-family: monospace;background-color: #f0f8ff;border: 1px dotted black;border-radius: 0.25em;box-sizing: border-box;margin-bottom: 0.5em;}#sk-container-id-1 div.sk-estimator:hover {background-color: #d4ebff;}#sk-container-id-1 div.sk-parallel-item::after {content: \"\";width: 100%;border-bottom: 1px solid gray;flex-grow: 1;}#sk-container-id-1 div.sk-label:hover label.sk-toggleable__label {background-color: #d4ebff;}#sk-container-id-1 div.sk-serial::before {content: \"\";position: absolute;border-left: 1px solid gray;box-sizing: border-box;top: 0;bottom: 0;left: 50%;z-index: 0;}#sk-container-id-1 div.sk-serial {display: flex;flex-direction: column;align-items: center;background-color: white;padding-right: 0.2em;padding-left: 0.2em;position: relative;}#sk-container-id-1 div.sk-item {position: relative;z-index: 1;}#sk-container-id-1 div.sk-parallel {display: flex;align-items: stretch;justify-content: center;background-color: white;position: relative;}#sk-container-id-1 div.sk-item::before, #sk-container-id-1 div.sk-parallel-item::before {content: \"\";position: absolute;border-left: 1px solid gray;box-sizing: border-box;top: 0;bottom: 0;left: 50%;z-index: -1;}#sk-container-id-1 div.sk-parallel-item {display: flex;flex-direction: column;z-index: 1;position: relative;background-color: white;}#sk-container-id-1 div.sk-parallel-item:first-child::after {align-self: flex-end;width: 50%;}#sk-container-id-1 div.sk-parallel-item:last-child::after {align-self: flex-start;width: 50%;}#sk-container-id-1 div.sk-parallel-item:only-child::after {width: 0;}#sk-container-id-1 div.sk-dashed-wrapped {border: 1px dashed gray;margin: 0 0.4em 0.5em 0.4em;box-sizing: border-box;padding-bottom: 0.4em;background-color: white;}#sk-container-id-1 div.sk-label label {font-family: monospace;font-weight: bold;display: inline-block;line-height: 1.2em;}#sk-container-id-1 div.sk-label-container {text-align: center;}#sk-container-id-1 div.sk-container {/* jupyter's `normalize.less` sets `[hidden] { display: none; }` but bootstrap.min.css set `[hidden] { display: none !important; }` so we also need the `!important` here to be able to override the default hidden behavior on the sphinx rendered scikit-learn.org. See: https://github.com/scikit-learn/scikit-learn/issues/21755 */display: inline-block !important;position: relative;}#sk-container-id-1 div.sk-text-repr-fallback {display: none;}</style><div id=\"sk-container-id-1\" class=\"sk-top-container\"><div class=\"sk-text-repr-fallback\"><pre>Pipeline(steps=[(&#x27;tfidf&#x27;, TfidfVectorizer()), (&#x27;clf&#x27;, MultinomialNB())])</pre><b>In a Jupyter environment, please rerun this cell to show the HTML representation or trust the notebook. <br />On GitHub, the HTML representation is unable to render, please try loading this page with nbviewer.org.</b></div><div class=\"sk-container\" hidden><div class=\"sk-item sk-dashed-wrapped\"><div class=\"sk-label-container\"><div class=\"sk-label sk-toggleable\"><input class=\"sk-toggleable__control sk-hidden--visually\" id=\"sk-estimator-id-1\" type=\"checkbox\" ><label for=\"sk-estimator-id-1\" class=\"sk-toggleable__label sk-toggleable__label-arrow\">Pipeline</label><div class=\"sk-toggleable__content\"><pre>Pipeline(steps=[(&#x27;tfidf&#x27;, TfidfVectorizer()), (&#x27;clf&#x27;, MultinomialNB())])</pre></div></div></div><div class=\"sk-serial\"><div class=\"sk-item\"><div class=\"sk-estimator sk-toggleable\"><input class=\"sk-toggleable__control sk-hidden--visually\" id=\"sk-estimator-id-2\" type=\"checkbox\" ><label for=\"sk-estimator-id-2\" class=\"sk-toggleable__label sk-toggleable__label-arrow\">TfidfVectorizer</label><div class=\"sk-toggleable__content\"><pre>TfidfVectorizer()</pre></div></div></div><div class=\"sk-item\"><div class=\"sk-estimator sk-toggleable\"><input class=\"sk-toggleable__control sk-hidden--visually\" id=\"sk-estimator-id-3\" type=\"checkbox\" ><label for=\"sk-estimator-id-3\" class=\"sk-toggleable__label sk-toggleable__label-arrow\">MultinomialNB</label><div class=\"sk-toggleable__content\"><pre>MultinomialNB()</pre></div></div></div></div></div></div></div>"
            ]
          },
          "metadata": {},
          "execution_count": 21
        }
      ]
    },
    {
      "cell_type": "code",
      "source": [
        "model_0_score = model_0.score(dfTest[\"tweets\"],dfTest[\"sentiment\"])"
      ],
      "metadata": {
        "id": "wFv-DUUbzuhI"
      },
      "execution_count": null,
      "outputs": []
    },
    {
      "cell_type": "code",
      "source": [
        "model_0_score*100"
      ],
      "metadata": {
        "colab": {
          "base_uri": "https://localhost:8080/"
        },
        "id": "te47HuVBz3ui",
        "outputId": "16dcf705-7c94-477d-f09a-c9673f7bad80"
      },
      "execution_count": null,
      "outputs": [
        {
          "output_type": "execute_result",
          "data": {
            "text/plain": [
              "75.93309461595535"
            ]
          },
          "metadata": {},
          "execution_count": 25
        }
      ]
    },
    {
      "cell_type": "code",
      "source": [
        "model_0_predictions = model_0.predict(dfTest[\"tweets\"])"
      ],
      "metadata": {
        "id": "J6wGgIy80Wc4"
      },
      "execution_count": null,
      "outputs": []
    },
    {
      "cell_type": "code",
      "source": [
        "model_0_predictions[:5]"
      ],
      "metadata": {
        "colab": {
          "base_uri": "https://localhost:8080/"
        },
        "id": "O6pWiNVS0wD3",
        "outputId": "43d56cdd-d80f-4cab-e702-b224c7d6e96a"
      },
      "execution_count": null,
      "outputs": [
        {
          "output_type": "execute_result",
          "data": {
            "text/plain": [
              "array([1, 0, 0, 0, 0])"
            ]
          },
          "metadata": {},
          "execution_count": 28
        }
      ]
    },
    {
      "cell_type": "code",
      "source": [
        "from sklearn import metrics\n",
        "def evaluate_predictions(y_true,y_pred):\n",
        "  output = {}\n",
        "  output[\"accuracy\"] = metrics.accuracy_score(y_true=y_true,\n",
        "                                                      y_pred=y_pred)\n",
        "  output[\"precision\"] = metrics.precision_score(y_true=y_true,\n",
        "                                                      y_pred=y_pred)\n",
        "  output[\"recall\"] = metrics.recall_score(y_true=y_true,\n",
        "                                                      y_pred=y_pred)\n",
        "  output[\"f1\"] = metrics.f1_score(y_true=y_true, average=\"weighted\",\n",
        "                                                      y_pred=y_pred)\n",
        "  return output"
      ],
      "metadata": {
        "id": "6TO51f6X0HFG"
      },
      "execution_count": null,
      "outputs": []
    },
    {
      "cell_type": "code",
      "source": [
        "evaluate_predictions(dfTest[\"sentiment\"].to_numpy(),model_0_predictions)"
      ],
      "metadata": {
        "colab": {
          "base_uri": "https://localhost:8080/"
        },
        "id": "pzD4R-Mg0SMO",
        "outputId": "a00b98c4-c5f6-4d18-ad63-6ae9b544bbc5"
      },
      "execution_count": null,
      "outputs": [
        {
          "output_type": "execute_result",
          "data": {
            "text/plain": [
              "{'accuracy': 0.7593309461595535,\n",
              " 'precision': 0.8030781967336494,\n",
              " 'recall': 0.6877759515292146,\n",
              " 'f1': 0.7580988079001916}"
            ]
          },
          "metadata": {},
          "execution_count": 49
        }
      ]
    },
    {
      "cell_type": "code",
      "source": [
        "train_dataset = tf.data.Dataset.from_tensor_slices((dfTrain[\"tweets\"],dfTrain[\"sentiment\"])).batch(128).prefetch(tf.data.AUTOTUNE)\n",
        "test_dataset = tf.data.Dataset.from_tensor_slices((dfTest[\"tweets\"],dfTest[\"sentiment\"])).batch(128).prefetch(tf.data.AUTOTUNE)"
      ],
      "metadata": {
        "id": "umGiV5O9r1CO"
      },
      "execution_count": null,
      "outputs": []
    },
    {
      "cell_type": "code",
      "source": [
        "text_vectorization = tf.keras.layers.TextVectorization(max_tokens=tokens,output_sequence_length=int(l95), pad_to_max_tokens=True)\n",
        "text_vectorization.adapt(dfTrain[\"tweets\"].to_numpy())"
      ],
      "metadata": {
        "id": "HD2yHk0WnUdD"
      },
      "execution_count": null,
      "outputs": []
    },
    {
      "cell_type": "code",
      "source": [
        "text_vectorization(random.choice(dfTrain[\"tweets\"].to_numpy()))"
      ],
      "metadata": {
        "colab": {
          "base_uri": "https://localhost:8080/"
        },
        "id": "AMEQJOOev98D",
        "outputId": "9ac917ca-cfe0-4c9a-dbb2-7b72c130d0c4"
      },
      "execution_count": null,
      "outputs": [
        {
          "output_type": "execute_result",
          "data": {
            "text/plain": [
              "<tf.Tensor: shape=(27,), dtype=int64, numpy=\n",
              "array([112256,    330,      2,     65,     41,      3,    224,      0,\n",
              "            0,      0,      0,      0,      0,      0,      0,      0,\n",
              "            0,      0,      0,      0,      0,      0,      0,      0,\n",
              "            0,      0,      0])>"
            ]
          },
          "metadata": {},
          "execution_count": 14
        }
      ]
    },
    {
      "cell_type": "code",
      "source": [
        "vocab = text_vectorization.get_vocabulary()"
      ],
      "metadata": {
        "id": "Wso4G9gHwwtu"
      },
      "execution_count": null,
      "outputs": []
    },
    {
      "cell_type": "code",
      "source": [
        "len(vocab)"
      ],
      "metadata": {
        "colab": {
          "base_uri": "https://localhost:8080/"
        },
        "id": "dNG5Aezrw2bp",
        "outputId": "2759d409-ecef-4843-fd89-85b8d4d479d3"
      },
      "execution_count": null,
      "outputs": [
        {
          "output_type": "execute_result",
          "data": {
            "text/plain": [
              "151336"
            ]
          },
          "metadata": {},
          "execution_count": 16
        }
      ]
    },
    {
      "cell_type": "code",
      "source": [
        "input = tf.keras.Input(dtype=tf.string, shape=(1,), name=\"input\")\n",
        "x = text_vectorization(input)\n",
        "x = tf.keras.layers.Embedding(input_dim=len(vocab), output_dim=128)(x)\n",
        "x = tf.keras.layers.Dropout(0.5)(x)\n",
        "x = tf.keras.layers.Bidirectional(tf.keras.layers.LSTM(64))(x)\n",
        "x = tf.keras.layers.Dropout(0.5)(x)\n",
        "x = tf.keras.layers.Dense(64, activation=\"relu\")(x)\n",
        "output = tf.keras.layers.Dense(1, activation=\"sigmoid\")(x)\n",
        "\n",
        "model = tf.keras.Model(input, output)"
      ],
      "metadata": {
        "id": "_XAKmRglwRj8"
      },
      "execution_count": null,
      "outputs": []
    },
    {
      "cell_type": "code",
      "source": [
        "model.compile(loss = tf.keras.losses.BinaryCrossentropy(),\n",
        "              optimizer = tf.keras.optimizers.Adam(),\n",
        "              metrics=[\"accuracy\"])"
      ],
      "metadata": {
        "id": "h4NoEW8dxy_o"
      },
      "execution_count": null,
      "outputs": []
    },
    {
      "cell_type": "code",
      "source": [
        "history = model.fit(train_dataset, epochs=15, steps_per_epoch=len(train_dataset),\n",
        "          validation_data=test_dataset, validation_steps = len(test_dataset))"
      ],
      "metadata": {
        "colab": {
          "base_uri": "https://localhost:8080/"
        },
        "id": "XE814j5ByUv0",
        "outputId": "fc6fc275-364d-47a2-bb76-9fe6db193749"
      },
      "execution_count": null,
      "outputs": [
        {
          "output_type": "stream",
          "name": "stdout",
          "text": [
            "Epoch 1/15\n",
            "1172/1172 [==============================] - 49s 38ms/step - loss: 0.4896 - accuracy: 0.7619 - val_loss: 0.4467 - val_accuracy: 0.7900\n",
            "Epoch 2/15\n",
            "1172/1172 [==============================] - 18s 15ms/step - loss: 0.3525 - accuracy: 0.8467 - val_loss: 0.4853 - val_accuracy: 0.7783\n",
            "Epoch 3/15\n",
            "1172/1172 [==============================] - 17s 15ms/step - loss: 0.2371 - accuracy: 0.9036 - val_loss: 0.5453 - val_accuracy: 0.7717\n",
            "Epoch 4/15\n",
            "1172/1172 [==============================] - 17s 15ms/step - loss: 0.1758 - accuracy: 0.9304 - val_loss: 0.6237 - val_accuracy: 0.7628\n",
            "Epoch 5/15\n",
            "1172/1172 [==============================] - 17s 15ms/step - loss: 0.1391 - accuracy: 0.9453 - val_loss: 0.6810 - val_accuracy: 0.7649\n",
            "Epoch 6/15\n",
            "1172/1172 [==============================] - 17s 14ms/step - loss: 0.1152 - accuracy: 0.9552 - val_loss: 0.7739 - val_accuracy: 0.7615\n",
            "Epoch 7/15\n",
            "1172/1172 [==============================] - 17s 15ms/step - loss: 0.0988 - accuracy: 0.9612 - val_loss: 0.8054 - val_accuracy: 0.7545\n",
            "Epoch 8/15\n",
            "1172/1172 [==============================] - 18s 15ms/step - loss: 0.0865 - accuracy: 0.9659 - val_loss: 0.8728 - val_accuracy: 0.7573\n",
            "Epoch 9/15\n",
            "1172/1172 [==============================] - 18s 15ms/step - loss: 0.0792 - accuracy: 0.9689 - val_loss: 0.9330 - val_accuracy: 0.7543\n",
            "Epoch 10/15\n",
            "1172/1172 [==============================] - 18s 16ms/step - loss: 0.0718 - accuracy: 0.9718 - val_loss: 0.9617 - val_accuracy: 0.7537\n",
            "Epoch 11/15\n",
            "1172/1172 [==============================] - 17s 15ms/step - loss: 0.0662 - accuracy: 0.9734 - val_loss: 1.0114 - val_accuracy: 0.7563\n",
            "Epoch 12/15\n",
            "1172/1172 [==============================] - 17s 15ms/step - loss: 0.0608 - accuracy: 0.9757 - val_loss: 1.0425 - val_accuracy: 0.7519\n",
            "Epoch 13/15\n",
            "1172/1172 [==============================] - 17s 15ms/step - loss: 0.0573 - accuracy: 0.9774 - val_loss: 1.0943 - val_accuracy: 0.7537\n",
            "Epoch 14/15\n",
            "1172/1172 [==============================] - 18s 15ms/step - loss: 0.0543 - accuracy: 0.9784 - val_loss: 1.1649 - val_accuracy: 0.7568\n",
            "Epoch 15/15\n",
            "1172/1172 [==============================] - 18s 15ms/step - loss: 0.0505 - accuracy: 0.9796 - val_loss: 1.2094 - val_accuracy: 0.7552\n"
          ]
        }
      ]
    },
    {
      "cell_type": "code",
      "source": [
        "plt.plot(history.history[\"val_accuracy\"], label=\"val_accuracy\")\n",
        "plt.plot(history.history[\"accuracy\"], label=\"accuracy\")\n",
        "plt.legend()"
      ],
      "metadata": {
        "colab": {
          "base_uri": "https://localhost:8080/",
          "height": 448
        },
        "id": "X-0LzOjx9f40",
        "outputId": "8e8a8aaa-1c7f-4e3a-fe28-510b9956b9f8"
      },
      "execution_count": null,
      "outputs": [
        {
          "output_type": "execute_result",
          "data": {
            "text/plain": [
              "<matplotlib.legend.Legend at 0x7f16ddda90c0>"
            ]
          },
          "metadata": {},
          "execution_count": 56
        },
        {
          "output_type": "display_data",
          "data": {
            "text/plain": [
              "<Figure size 640x480 with 1 Axes>"
            ],
            "image/png": "[encoded data removed]"
          },
          "metadata": {}
        }
      ]
    },
    {
      "cell_type": "code",
      "source": [
        "model_predictions = model.predict(test_dataset)"
      ],
      "metadata": {
        "colab": {
          "base_uri": "https://localhost:8080/"
        },
        "id": "z60FbSp41AgW",
        "outputId": "bdaab3e2-e4cc-4a7a-8f51-ebe03132078f"
      },
      "execution_count": null,
      "outputs": [
        {
          "output_type": "stream",
          "name": "stdout",
          "text": [
            "485/485 [==============================] - 6s 8ms/step\n"
          ]
        }
      ]
    },
    {
      "cell_type": "code",
      "source": [
        "model_y_pred = tf.math.round(tf.squeeze(model_predictions))"
      ],
      "metadata": {
        "id": "uYdotVfs1Igk"
      },
      "execution_count": null,
      "outputs": []
    },
    {
      "cell_type": "code",
      "source": [
        "model_y_pred[:5]"
      ],
      "metadata": {
        "colab": {
          "base_uri": "https://localhost:8080/"
        },
        "id": "0FH0j2w51hQX",
        "outputId": "97f8a5ea-63bd-4d21-9dc7-de68a28ffcc4"
      },
      "execution_count": null,
      "outputs": [
        {
          "output_type": "execute_result",
          "data": {
            "text/plain": [
              "<tf.Tensor: shape=(5,), dtype=float32, numpy=array([1., 0., 0., 0., 0.], dtype=float32)>"
            ]
          },
          "metadata": {},
          "execution_count": 35
        }
      ]
    },
    {
      "cell_type": "code",
      "source": [
        "evaluate_predictions(dfTest[\"sentiment\"].to_numpy(),model_y_pred)"
      ],
      "metadata": {
        "colab": {
          "base_uri": "https://localhost:8080/"
        },
        "id": "o4jm5Rn_ynMv",
        "outputId": "036816ff-00e4-4018-f41a-23c308555b21"
      },
      "execution_count": null,
      "outputs": [
        {
          "output_type": "execute_result",
          "data": {
            "text/plain": [
              "{'accuracy': 0.7527017000548405,\n",
              " 'precision': 0.7771656602041177,\n",
              " 'recall': 0.7092397434657901,\n",
              " 'f1': 0.7522381204144283}"
            ]
          },
          "metadata": {},
          "execution_count": 50
        }
      ]
    },
    {
      "cell_type": "code",
      "source": [
        "model_Conv = tf.keras.Sequential([\n",
        "    text_vectorization,\n",
        "    tf.keras.layers.Embedding(input_dim=len(vocab), output_dim=128),\n",
        "    tf.keras.layers.Conv1D(128,5,padding=\"valid\"),\n",
        "    tf.keras.layers.Dropout(0.7),\n",
        "    tf.keras.layers.Conv1D(128,5,padding=\"same\"),\n",
        "    tf.keras.layers.Dropout(0.5),\n",
        "    tf.keras.layers.GlobalAveragePooling1D(),\n",
        "    tf.keras.layers.Dense(128, activation=\"relu\"),\n",
        "    tf.keras.layers.Dropout(0.5),\n",
        "    tf.keras.layers.Dense(1,activation=\"sigmoid\")\n",
        "])\n",
        "\n",
        "model_Conv.compile(loss = tf.keras.losses.BinaryCrossentropy(),\n",
        "              optimizer = tf.keras.optimizers.Adam(),\n",
        "              metrics=[\"accuracy\"])\n",
        "history_Conv = model_Conv.fit(train_dataset, epochs=15,\n",
        "                              steps_per_epoch=len(train_dataset),\n",
        "                              validation_data=test_dataset,\n",
        "                              validation_steps = len(test_dataset))"
      ],
      "metadata": {
        "colab": {
          "base_uri": "https://localhost:8080/"
        },
        "id": "3NmGTYHx3H0B",
        "outputId": "e20ff753-cd27-4697-b076-67c28c4a2f0a"
      },
      "execution_count": null,
      "outputs": [
        {
          "output_type": "stream",
          "name": "stdout",
          "text": [
            "Epoch 1/15\n",
            "1172/1172 [==============================] - 46s 35ms/step - loss: 0.4992 - accuracy: 0.7552 - val_loss: 0.4649 - val_accuracy: 0.7841\n",
            "Epoch 2/15\n",
            "1172/1172 [==============================] - 15s 13ms/step - loss: 0.3277 - accuracy: 0.8587 - val_loss: 0.5422 - val_accuracy: 0.7489\n",
            "Epoch 3/15\n",
            "1172/1172 [==============================] - 16s 13ms/step - loss: 0.1842 - accuracy: 0.9256 - val_loss: 0.7377 - val_accuracy: 0.7392\n",
            "Epoch 4/15\n",
            "1172/1172 [==============================] - 14s 12ms/step - loss: 0.1210 - accuracy: 0.9529 - val_loss: 0.8583 - val_accuracy: 0.7392\n",
            "Epoch 5/15\n",
            "1172/1172 [==============================] - 14s 12ms/step - loss: 0.0948 - accuracy: 0.9634 - val_loss: 1.0352 - val_accuracy: 0.7127\n",
            "Epoch 6/15\n",
            "1172/1172 [==============================] - 15s 13ms/step - loss: 0.0818 - accuracy: 0.9686 - val_loss: 1.0433 - val_accuracy: 0.7324\n",
            "Epoch 7/15\n",
            "1172/1172 [==============================] - 15s 13ms/step - loss: 0.0681 - accuracy: 0.9740 - val_loss: 1.1222 - val_accuracy: 0.7297\n",
            "Epoch 8/15\n",
            "1172/1172 [==============================] - 15s 13ms/step - loss: 0.0606 - accuracy: 0.9773 - val_loss: 1.2245 - val_accuracy: 0.7265\n",
            "Epoch 9/15\n",
            "1172/1172 [==============================] - 14s 12ms/step - loss: 0.0549 - accuracy: 0.9790 - val_loss: 1.3020 - val_accuracy: 0.7175\n",
            "Epoch 10/15\n",
            "1172/1172 [==============================] - 15s 13ms/step - loss: 0.0546 - accuracy: 0.9792 - val_loss: 1.3181 - val_accuracy: 0.7251\n",
            "Epoch 11/15\n",
            "1172/1172 [==============================] - 14s 12ms/step - loss: 0.0520 - accuracy: 0.9796 - val_loss: 1.3458 - val_accuracy: 0.7160\n",
            "Epoch 12/15\n",
            "1172/1172 [==============================] - 14s 12ms/step - loss: 0.0504 - accuracy: 0.9806 - val_loss: 1.4206 - val_accuracy: 0.7271\n",
            "Epoch 13/15\n",
            "1172/1172 [==============================] - 15s 13ms/step - loss: 0.0478 - accuracy: 0.9817 - val_loss: 1.5339 - val_accuracy: 0.7297\n",
            "Epoch 14/15\n",
            "1172/1172 [==============================] - 15s 13ms/step - loss: 0.0452 - accuracy: 0.9828 - val_loss: 1.5257 - val_accuracy: 0.7231\n",
            "Epoch 15/15\n",
            "1172/1172 [==============================] - 14s 12ms/step - loss: 0.0437 - accuracy: 0.9835 - val_loss: 1.7170 - val_accuracy: 0.7245\n"
          ]
        }
      ]
    },
    {
      "cell_type": "code",
      "source": [
        "plt.plot(history_Conv.history[\"val_accuracy\"], label=\"val_accuracy\")\n",
        "plt.plot(history_Conv.history[\"accuracy\"], label=\"accuracy\")\n",
        "plt.legend()"
      ],
      "metadata": {
        "colab": {
          "base_uri": "https://localhost:8080/",
          "height": 448
        },
        "id": "f4qABnZLDPWp",
        "outputId": "10aced7d-a073-4927-9b3d-804138e1c771"
      },
      "execution_count": null,
      "outputs": [
        {
          "output_type": "execute_result",
          "data": {
            "text/plain": [
              "<matplotlib.legend.Legend at 0x7f16dda37ca0>"
            ]
          },
          "metadata": {},
          "execution_count": 60
        },
        {
          "output_type": "display_data",
          "data": {
            "text/plain": [
              "<Figure size 640x480 with 1 Axes>"
            ],
            "image/png": "[encoded data removed]"
          },
          "metadata": {}
        }
      ]
    },
    {
      "cell_type": "code",
      "source": [
        "model_Conv_predictions = model_Conv.predict(test_dataset)\n",
        "model_Conv_y_pred = tf.math.round(tf.squeeze(model_Conv_predictions))\n",
        "evaluate_predictions(dfTest[\"sentiment\"], model_Conv_y_pred)"
      ],
      "metadata": {
        "colab": {
          "base_uri": "https://localhost:8080/"
        },
        "id": "2tuZtRLPBDtI",
        "outputId": "243516ca-dd37-4ae7-92f6-ad356bff5bef"
      },
      "execution_count": null,
      "outputs": [
        {
          "output_type": "stream",
          "name": "stdout",
          "text": [
            "485/485 [==============================] - 1s 3ms/step\n"
          ]
        },
        {
          "output_type": "execute_result",
          "data": {
            "text/plain": [
              "{'accuracy': 0.724491112616536,\n",
              " 'precision': 0.7198197062346341,\n",
              " 'recall': 0.7359889135969577,\n",
              " 'f1': 0.7244532880758515}"
            ]
          },
          "metadata": {},
          "execution_count": 61
        }
      ]
    },
    {
      "cell_type": "markdown",
      "source": [
        "## First Experiments\n",
        "### What's been achieved so far:\n",
        "* Defined a baseline model using tf-idf and naive bayes\n",
        "* Preprocessing dataset in ordet to set up correctly Text Vectorization and Embeddings Layers\n",
        "  * Used 95% of total words as vocabulary and 95 percentile of sequence length\n",
        "* Built first model with bidirectional LSTM\n",
        "  * It overfits... added \"aggressive\" dropout at 0.5 after each layer. Overfitting mitigated and the results are slightly better than baseline\n",
        "* Built second model with Convolution 1D\n",
        "  * This overfits too. Added \"aggressive\" dropout at 0.5 after each layere here too but not performs well...\n",
        "\n",
        "### Next Steps to try:\n",
        "* Remove special characters from input sentences\n",
        "* Change vocabulary size and sequence length\n",
        "* Try different kind of neural networks\n",
        "* Implement some kind of tolerance:\n",
        "  * for example instead of using  `tf.math.round()` and so bring to one anything above 0.5, use something to flag positive everything above 0.3\n",
        "\n"
      ],
      "metadata": {
        "id": "_WfTxwLj--Bw"
      }
    }
  ]
}